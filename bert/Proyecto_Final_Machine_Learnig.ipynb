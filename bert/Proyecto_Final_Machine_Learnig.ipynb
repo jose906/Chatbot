{
  "nbformat": 4,
  "nbformat_minor": 0,
  "metadata": {
    "colab": {
      "provenance": [],
      "collapsed_sections": [
        "jV4kFr4flYl1"
      ]
    },
    "kernelspec": {
      "name": "python3",
      "display_name": "Python 3"
    },
    "language_info": {
      "name": "python"
    },
    "accelerator": "TPU",
    "gpuClass": "standard"
  },
  "cells": [
    {
      "cell_type": "markdown",
      "metadata": {
        "id": "iRJpcOm1XkWo"
      },
      "source": [
        "# PREGUNTAS Y RESPUESTAS CON BERT\n",
        "![](https://i0.wp.com/linkskorner.com/wp-content/uploads/2018/12/question-answer-sites-list.jpg?fit=2560%2C1440&ssl=1)"
      ]
    },
    {
      "cell_type": "markdown",
      "metadata": {
        "id": "8d2N7yHEZN8B"
      },
      "source": [
        "##1 - El problema a resolver"
      ]
    },
    {
      "cell_type": "markdown",
      "metadata": {
        "id": "U6a8H-DSU9DP"
      },
      "source": [
        "La idea es implementar un modelo que dada una **pregunta** y un **contexto** (una porción de texto), sea capaz de encontrar la **respuesta** correspondiente"
      ]
    },
    {
      "cell_type": "markdown",
      "metadata": {
        "id": "1VJKKqgb0cF9"
      },
      "source": [
        "##2- Arquitectura del modelo"
      ]
    },
    {
      "cell_type": "markdown",
      "metadata": {
        "id": "l8TLUaEYVIBG"
      },
      "source": [
        "Para esto tomaremos el modelo *BERT BASE* pre-entrenado, agregaremos algunas capas adicionales, y lo **afinaremos** para que aprenda a encontrar la respuesta dados un contexto y una pregunta como entrada:\n",
        "\n",
        "![](https://lilianweng.github.io/posts/2020-10-29-odqa/BERT-RC.png)"
      ]
    },
    {
      "cell_type": "markdown",
      "metadata": {
        "id": "a131EC2uXfZ4"
      },
      "source": [
        "##3- Librerías importantes"
      ]
    },
    {
      "cell_type": "markdown",
      "metadata": {
        "id": "J8v_06TxWJds"
      },
      "source": [
        "Dada la complejidad del modelo, y la imposibilidad de entrenarlo con los recursos proporcionados por Google Colab, usaremos un [*Tokenizer*](https://huggingface.co/docs/tokenizers/python/latest/quicktour.html#using-a-pretrained-tokenizer) y un [modelo BERT pre-entrenado](https://huggingface.co/bert-base-uncased)."
      ]
    },
    {
      "cell_type": "code",
      "metadata": {
        "id": "5MUAK1wp9S95",
        "colab": {
          "base_uri": "https://localhost:8080/"
        },
        "outputId": "e110fb7e-0d6d-4122-c66b-9a4c5fb740b2"
      },
      "source": [
        "# Instalar librerías importantes\n",
        "!pip install transformers\n",
        "!pip install tokenizers"
      ],
      "execution_count": null,
      "outputs": [
        {
          "output_type": "stream",
          "name": "stdout",
          "text": [
            "Looking in indexes: https://pypi.org/simple, https://us-python.pkg.dev/colab-wheels/public/simple/\n",
            "Collecting transformers\n",
            "  Downloading transformers-4.26.1-py3-none-any.whl (6.3 MB)\n",
            "\u001b[2K     \u001b[90m━━━━━━━━━━━━━━━━━━━━━━━━━━━━━━━━━━━━━━━━\u001b[0m \u001b[32m6.3/6.3 MB\u001b[0m \u001b[31m22.6 MB/s\u001b[0m eta \u001b[36m0:00:00\u001b[0m\n",
            "\u001b[?25hRequirement already satisfied: regex!=2019.12.17 in /usr/local/lib/python3.8/dist-packages (from transformers) (2022.6.2)\n",
            "Requirement already satisfied: tqdm>=4.27 in /usr/local/lib/python3.8/dist-packages (from transformers) (4.64.1)\n",
            "Requirement already satisfied: pyyaml>=5.1 in /usr/local/lib/python3.8/dist-packages (from transformers) (6.0)\n",
            "Requirement already satisfied: packaging>=20.0 in /usr/local/lib/python3.8/dist-packages (from transformers) (23.0)\n",
            "Collecting huggingface-hub<1.0,>=0.11.0\n",
            "  Downloading huggingface_hub-0.12.1-py3-none-any.whl (190 kB)\n",
            "\u001b[2K     \u001b[90m━━━━━━━━━━━━━━━━━━━━━━━━━━━━━━━━━━━━━━━\u001b[0m \u001b[32m190.3/190.3 KB\u001b[0m \u001b[31m7.0 MB/s\u001b[0m eta \u001b[36m0:00:00\u001b[0m\n",
            "\u001b[?25hRequirement already satisfied: requests in /usr/local/lib/python3.8/dist-packages (from transformers) (2.25.1)\n",
            "Requirement already satisfied: filelock in /usr/local/lib/python3.8/dist-packages (from transformers) (3.9.0)\n",
            "Collecting tokenizers!=0.11.3,<0.14,>=0.11.1\n",
            "  Downloading tokenizers-0.13.2-cp38-cp38-manylinux_2_17_x86_64.manylinux2014_x86_64.whl (7.6 MB)\n",
            "\u001b[2K     \u001b[90m━━━━━━━━━━━━━━━━━━━━━━━━━━━━━━━━━━━━━━━━\u001b[0m \u001b[32m7.6/7.6 MB\u001b[0m \u001b[31m30.6 MB/s\u001b[0m eta \u001b[36m0:00:00\u001b[0m\n",
            "\u001b[?25hRequirement already satisfied: numpy>=1.17 in /usr/local/lib/python3.8/dist-packages (from transformers) (1.24.2)\n",
            "Requirement already satisfied: typing-extensions>=3.7.4.3 in /usr/local/lib/python3.8/dist-packages (from huggingface-hub<1.0,>=0.11.0->transformers) (4.5.0)\n",
            "Requirement already satisfied: chardet<5,>=3.0.2 in /usr/local/lib/python3.8/dist-packages (from requests->transformers) (4.0.0)\n",
            "Requirement already satisfied: idna<3,>=2.5 in /usr/local/lib/python3.8/dist-packages (from requests->transformers) (2.10)\n",
            "Requirement already satisfied: urllib3<1.27,>=1.21.1 in /usr/local/lib/python3.8/dist-packages (from requests->transformers) (1.26.14)\n",
            "Requirement already satisfied: certifi>=2017.4.17 in /usr/local/lib/python3.8/dist-packages (from requests->transformers) (2022.12.7)\n",
            "Installing collected packages: tokenizers, huggingface-hub, transformers\n",
            "Successfully installed huggingface-hub-0.12.1 tokenizers-0.13.2 transformers-4.26.1\n",
            "Looking in indexes: https://pypi.org/simple, https://us-python.pkg.dev/colab-wheels/public/simple/\n",
            "Requirement already satisfied: tokenizers in /usr/local/lib/python3.8/dist-packages (0.13.2)\n"
          ]
        }
      ]
    },
    {
      "cell_type": "markdown",
      "metadata": {
        "id": "V_v4XbmjXu-f"
      },
      "source": [
        "##4- El set de datos"
      ]
    },
    {
      "cell_type": "markdown",
      "metadata": {
        "id": "s9MAFlKgWT-B"
      },
      "source": [
        "Usaremos el set [SQuAD v1.1](https://rajpurkar.github.io/SQuAD-explorer/explore/1.1/dev/) (*Stanford Question Answering Dataset*), que contiene más de 100.000 pares de preguntas-respuestas.\n",
        "\n",
        "Cada ejemplo de entrenamiento contiene estas variables:\n",
        "\n",
        "1. `context`: el texto completo (contexto)\n",
        "2. `question`: una pregunta acerca del contenido del contexto\n",
        "3. `answer_text`: el texto dentro del contexto que responde la pregunta\n",
        "4. `start_char_idx`: el caracter dentro del contexto en donde inicia la respuesta\n",
        "5. `all_answers`: todos los posibles textos de respuesta (en caso de que la respuesta aparezca varias veces dentro del contexto)"
      ]
    },
    {
      "cell_type": "markdown",
      "metadata": {
        "id": "2JfMpc3AbEEY"
      },
      "source": [
        "###4.1- Lectura de los sets de datos\n",
        "\n",
        "Los sets están almacenados en dos diccionarios de Python `raw_train_dataset` (set de entrenamiento) y `raw_test_dataset` (set de prueba):"
      ]
    },
    {
      "cell_type": "code",
      "source": [
        "# Importar Google Drive\n",
        "from google.colab import drive\n",
        "import pickle"
      ],
      "metadata": {
        "id": "Z9V-PqtxF6IX"
      },
      "execution_count": null,
      "outputs": []
    },
    {
      "cell_type": "code",
      "source": [
        "from google.colab import drive\n",
        "drive.mount('/content/drive')"
      ],
      "metadata": {
        "id": "q3Bk7MTZGA-3",
        "colab": {
          "base_uri": "https://localhost:8080/"
        },
        "outputId": "427e8936-3fd0-4d46-bda0-b33f377c286c"
      },
      "execution_count": null,
      "outputs": [
        {
          "output_type": "stream",
          "name": "stdout",
          "text": [
            "Mounted at /content/drive\n"
          ]
        }
      ]
    },
    {
      "cell_type": "code",
      "metadata": {
        "id": "cBlWflcaYUjJ",
        "colab": {
          "base_uri": "https://localhost:8080/"
        },
        "outputId": "9aa780f0-469d-463e-f14b-60d158499852"
      },
      "source": [
        "# Y leer los datasets (entrenamiento y prueba)\n",
        "ruta = '/content/drive/MyDrive/12 Machine Learning/data'\n",
        "\n",
        "with open(ruta+'/raw_train_dataset.pkl','rb') as handle:\n",
        "  raw_train_dataset = pickle.load(handle)\n",
        "\n",
        "with open(ruta+'/raw_test_dataset.pkl','rb') as handle:\n",
        "  raw_test_dataset = pickle.load(handle)\n",
        "\n",
        "print(f'Número de ejemplos de entrenamiento: {len(raw_train_dataset)}')\n",
        "print(f'Número de ejemplos de prueba: {len(raw_test_dataset)}')"
      ],
      "execution_count": null,
      "outputs": [
        {
          "output_type": "stream",
          "name": "stdout",
          "text": [
            "Número de ejemplos de entrenamiento: 87599\n",
            "Número de ejemplos de prueba: 10570\n"
          ]
        }
      ]
    },
    {
      "cell_type": "markdown",
      "metadata": {
        "id": "mRZ6fv2abUyH"
      },
      "source": [
        "Veamos un ejemplo de entrenamiento:"
      ]
    },
    {
      "cell_type": "code",
      "metadata": {
        "id": "h52t0gNVbWqe",
        "colab": {
          "base_uri": "https://localhost:8080/"
        },
        "outputId": "4acf147f-fd05-4937-faba-401ae61e3535"
      },
      "source": [
        "import textwrap\n",
        "\n",
        "# Ejemplo\n",
        "id = 23 #12\n",
        "context = raw_train_dataset[id]['context']\n",
        "question = raw_train_dataset[id]['question']\n",
        "start_char_idx = raw_train_dataset[id]['start_char_idx']\n",
        "answer_text = raw_train_dataset[id]['answer_text']\n",
        "all_answers = raw_train_dataset[id]['all_answers']\n",
        "\n",
        "print('Contexto (context):')\n",
        "print('--------------')\n",
        "print(textwrap.fill(context,width=90))\n",
        "\n",
        "print('\\nPregunta (question):')\n",
        "print('--------------')\n",
        "print(textwrap.fill(question,width=90))\n",
        "\n",
        "print('\\nTexto de respuesta (answer_text):')\n",
        "print('-------------------')\n",
        "print(textwrap.fill(answer_text,width=90))\n",
        "\n",
        "print('\\nÍndice del caracter de inicio de la respuesta (start_char_idx):')\n",
        "print('----------------------------------------------')\n",
        "print(start_char_idx, context[start_char_idx:start_char_idx+10]+'...')\n",
        "\n",
        "print('\\nTodas las posibles respuestas (all_answers):')\n",
        "print('-------------------------------')\n",
        "print(all_answers)"
      ],
      "execution_count": null,
      "outputs": [
        {
          "output_type": "stream",
          "name": "stdout",
          "text": [
            "Contexto (context):\n",
            "--------------\n",
            "All of Notre Dame's undergraduate students are a part of one of the five undergraduate\n",
            "colleges at the school or are in the First Year of Studies program. The First Year of\n",
            "Studies program was established in 1962 to guide incoming freshmen in their first year at\n",
            "the school before they have declared a major. Each student is given an academic advisor\n",
            "from the program who helps them to choose classes that give them exposure to any major in\n",
            "which they are interested. The program also includes a Learning Resource Center which\n",
            "provides time management, collaborative learning, and subject tutoring. This program has\n",
            "been recognized previously, by U.S. News & World Report, as outstanding.\n",
            "\n",
            "Pregunta (question):\n",
            "--------------\n",
            "Which organization declared the First Year of Studies program at Notre Dame \"outstanding?\"\n",
            "\n",
            "Texto de respuesta (answer_text):\n",
            "-------------------\n",
            "U.S. News & World Report\n",
            "\n",
            "Índice del caracter de inicio de la respuesta (start_char_idx):\n",
            "----------------------------------------------\n",
            "647 U.S. News ...\n",
            "\n",
            "Todas las posibles respuestas (all_answers):\n",
            "-------------------------------\n",
            "['U.S. News & World Report']\n"
          ]
        }
      ]
    },
    {
      "cell_type": "markdown",
      "metadata": {
        "id": "D0pToGITb5NR"
      },
      "source": [
        "###4.2- Tokenización\n",
        "\n",
        "La \"tokenización\" permite tomar una frase y separararla en sus elementos básicos (palabras o *tokens*) y luego representar cada *token* numéricamente.\n",
        "\n",
        "Usaremos [BertWordPieceTokenizer](https://huggingface.co/docs/tokenizers/python/latest/quicktour.html#using-a-pretrained-tokenizer), un modelo pre-entrenado para la tokenización de frases en Inglés y adaptado a las necesidades de BERT:"
      ]
    },
    {
      "cell_type": "code",
      "metadata": {
        "id": "uvoNoMFN9apG",
        "colab": {
          "base_uri": "https://localhost:8080/"
        },
        "outputId": "221d8515-0885-4818-cc12-f5a33dfa74bc"
      },
      "source": [
        "from tokenizers import BertWordPieceTokenizer\n",
        "\n",
        "# Cargar el vocabulario\n",
        "!wget https://s3.amazonaws.com/models.huggingface.co/bert/bert-base-uncased-vocab.txt\n",
        "\n",
        "# Y crear el tokenizer\n",
        "tokenizer = BertWordPieceTokenizer(\"bert-base-uncased-vocab.txt\", lowercase=True)"
      ],
      "execution_count": null,
      "outputs": [
        {
          "output_type": "stream",
          "name": "stdout",
          "text": [
            "--2023-03-06 03:00:24--  https://s3.amazonaws.com/models.huggingface.co/bert/bert-base-uncased-vocab.txt\n",
            "Resolving s3.amazonaws.com (s3.amazonaws.com)... 52.217.97.30, 54.231.161.64, 52.217.167.192, ...\n",
            "Connecting to s3.amazonaws.com (s3.amazonaws.com)|52.217.97.30|:443... connected.\n",
            "HTTP request sent, awaiting response... 200 OK\n",
            "Length: 231508 (226K) [text/plain]\n",
            "Saving to: ‘bert-base-uncased-vocab.txt’\n",
            "\n",
            "bert-base-uncased-v 100%[===================>] 226.08K  --.-KB/s    in 0.09s   \n",
            "\n",
            "2023-03-06 03:00:24 (2.50 MB/s) - ‘bert-base-uncased-vocab.txt’ saved [231508/231508]\n",
            "\n"
          ]
        }
      ]
    },
    {
      "cell_type": "code",
      "metadata": {
        "id": "m7RFDt929247",
        "colab": {
          "base_uri": "https://localhost:8080/"
        },
        "outputId": "bb5f4576-5b25-4fcb-b03c-85eaeef6815d"
      },
      "source": [
        "# Info del tokenizer\n",
        "tokenizer"
      ],
      "execution_count": null,
      "outputs": [
        {
          "output_type": "execute_result",
          "data": {
            "text/plain": [
              "Tokenizer(vocabulary_size=30522, model=BertWordPiece, unk_token=[UNK], sep_token=[SEP], cls_token=[CLS], pad_token=[PAD], mask_token=[MASK], clean_text=True, handle_chinese_chars=True, strip_accents=None, lowercase=True, wordpieces_prefix=##)"
            ]
          },
          "metadata": {},
          "execution_count": 7
        }
      ]
    },
    {
      "cell_type": "markdown",
      "metadata": {
        "id": "vAf_5tIpcyeE"
      },
      "source": [
        "Veamos un ejemplo de tokenización (los *tokens* desconocidos serán codificados con `[UNK]`):"
      ]
    },
    {
      "cell_type": "code",
      "metadata": {
        "id": "YxRSQrJaAIKH",
        "colab": {
          "base_uri": "https://localhost:8080/"
        },
        "outputId": "aff85271-4d92-49ee-e29e-ac448a4d331d"
      },
      "source": [
        "# Un ejemplo de tokenización\n",
        "frase = \"I am so, so happy 😊!\"\n",
        "salida = tokenizer.encode(frase)\n",
        "\n",
        "print(f'Frase original:\\t\\t\\t{frase}')\n",
        "print(f'Tokens:\\t\\t\\t\\t{salida.tokens}')\n",
        "print(f'Representación numérica:\\t{salida.ids}')\n",
        "print(f'Máscara atencional:\\t\\t{salida.attention_mask}')\n",
        "print(f'Offsets:\\t\\t\\t{salida.offsets}') # Inicio/finalización de cada token en la sec. de caracteres original"
      ],
      "execution_count": null,
      "outputs": [
        {
          "output_type": "stream",
          "name": "stdout",
          "text": [
            "Frase original:\t\t\tI am so, so happy 😊!\n",
            "Tokens:\t\t\t\t['[CLS]', 'i', 'am', 'so', ',', 'so', 'happy', '[UNK]', '!', '[SEP]']\n",
            "Representación numérica:\t[101, 1045, 2572, 2061, 1010, 2061, 3407, 100, 999, 102]\n",
            "Máscara atencional:\t\t[1, 1, 1, 1, 1, 1, 1, 1, 1, 1]\n",
            "Offsets:\t\t\t[(0, 0), (0, 1), (2, 4), (5, 7), (7, 8), (9, 11), (12, 17), (18, 19), (19, 20), (0, 0)]\n"
          ]
        }
      ]
    },
    {
      "cell_type": "markdown",
      "metadata": {
        "id": "o0kho2eLd75l"
      },
      "source": [
        "El atributo `offsets` indica el inicio y finalización de cada *token* en la secuencia de caracteres original. Ejemplo:"
      ]
    },
    {
      "cell_type": "code",
      "metadata": {
        "id": "irwrN6IhA1kx",
        "colab": {
          "base_uri": "https://localhost:8080/"
        },
        "outputId": "0cc02f31-f972-424a-a1d8-eab8113c7acf"
      },
      "source": [
        "# Ejemplo offsets: \"happy\" es el 6º token\n",
        "start = salida.offsets[6][0]\n",
        "end = salida.offsets[6][1]\n",
        "palabra = frase[start:end]\n",
        "print(palabra)"
      ],
      "execution_count": null,
      "outputs": [
        {
          "output_type": "stream",
          "name": "stdout",
          "text": [
            "happy\n"
          ]
        }
      ]
    },
    {
      "cell_type": "markdown",
      "metadata": {
        "id": "fVr_9rkDepSU"
      },
      "source": [
        "###4.3- Pre-procesamiento del dataset\n",
        "\n",
        "Cada dato (de entrenamiento o prueba) debe ser pre-procesado para obtener los arreglos:\n",
        "\n",
        "1. `input_ids`: codificación numérica de los tokens `context`+`question`\n",
        "2. `token_type_ids`: secuencia (del mismo tamaño de `input_ids`) indicando la porción correspondiente a `context` (codificada con 1s), `answer` (codificada con 0s) y \"padding\" (también con 0s)\n",
        "3. `attention_mask`: la máscara atencional (del mismo tamaño de `input_ids`) indicando la porción correspondiente a `context`+`answer` (codificada con 1s) y la porción que contiene \"padding\" (codificada con 0s)\n",
        "4. `start_token_idx`: la posición del token de inicio de la respuesta, con respecto a la secuencia `input_ids`\n",
        "5. `end_token_idx`: la posición del token de finalización de la respuesta, con respecto a la secuencia `input_ids`\n",
        "\n",
        "Durante el entrenamiento, los datos 1 a 3 se usarán como entrada al modelo, y este deberá a aprender a predecir los datos 4 y 5."
      ]
    },
    {
      "cell_type": "code",
      "metadata": {
        "id": "wboDhShTeu1L"
      },
      "source": [
        "# Longitud máxima de cada secuencia de entrada al modelo.\n",
        "# Si la longitud de la secuencia procesada es inferior se agrega \"padding\",\n",
        "# de lo contrario se trunca y no se incluye en el set\n",
        "MAX_LEN = 384\n",
        "\n",
        "def preprocesar(dato):\n",
        "  # Extraer componentes del dato\n",
        "  context = dato['context']\n",
        "  question = dato['question']\n",
        "  answer_text = dato['answer_text']\n",
        "  start_char_idx = dato['start_char_idx']\n",
        "\n",
        "  # Eliminar posibles excesos de espacios en blanco\n",
        "  context = \" \".join(str(context).split())\n",
        "  question = \" \".join(str(question).split())\n",
        "  answer = \" \".join(str(answer_text).split())\n",
        "\n",
        "  # Encontrar el índice del caracter de finalización de la respuesta\n",
        "  end_char_idx = start_char_idx + len(answer)\n",
        "\n",
        "  # Algunas respuestas están indexadas incorrectamente. De ser así\n",
        "  # saltar el dato (no continuar con su procesamiento)\n",
        "  if end_char_idx >= len(context):\n",
        "    return #skip: en este caso el dato quedará preprocesado como \"None\"\n",
        "  \n",
        "  # Máscara con los índices en \"context\" correspondientes a \"answer\"\n",
        "  is_char_in_ans = [0] * len(context)\n",
        "  for idx in range(start_char_idx, end_char_idx):\n",
        "    is_char_in_ans[idx] = 1\n",
        "  \n",
        "  # Tokenizar \"context\"\n",
        "  tokenized_context = tokenizer.encode(context)\n",
        "\n",
        "  # Encontrar equivalencia entre caracteres inicio/finalización de\n",
        "  # respuesta y los tokens de inicio/finalización de respuesta\n",
        "  ans_token_idx = []\n",
        "  for idx, (start, end) in enumerate(tokenized_context.offsets):\n",
        "    if sum(is_char_in_ans[start:end]) > 0: # si la porción analizada es \"answer\"\n",
        "      ans_token_idx.append(idx)\n",
        "  \n",
        "  # Para respuestas indexadas incorrectamente: si no se encuentran tokens de\n",
        "  # inicio/finalización de respuesta, saltar el dato\n",
        "  if len(ans_token_idx) == 0:\n",
        "    return #skip: en este caso el dato quedará preprocesado como \"None\"\n",
        "  \n",
        "  # De lo contrario almacenar los tokens de inicio/finalización de respuesta\n",
        "  start_token_idx = ans_token_idx[0]\n",
        "  end_token_idx = ans_token_idx[-1]\n",
        "\n",
        "  # Tokenizar \"question\"\n",
        "  tokenized_question = tokenizer.encode(question)\n",
        "\n",
        "  # Crear frase de entrada al modelo:\n",
        "  #[[CLS] tk_ctxt1 tk_ctxt2 ... [SEP] tk_qst1 + tk_qst2 + ... [SEP]]\n",
        "  input_ids = tokenized_context.ids + tokenized_question.ids[1:]\n",
        "\n",
        "  # Máscara atencional: el modelo prestará atención sólo a \"context\" y a\n",
        "  # \"question\", pero no al \"padding\"\n",
        "  attention_mask = [1] * len(input_ids)\n",
        "\n",
        "  # Máscara: 0 para \"context\" y 1 para \"question\"\n",
        "  token_type_ids = [0] * len(tokenized_context.ids) + [1] * len(\n",
        "      tokenized_question.ids[1:])\n",
        "  \n",
        "  # Padding\n",
        "  padding_length = MAX_LEN - len(input_ids)\n",
        "  if padding_length > 0: # Agregar \"padding\"\n",
        "    input_ids = input_ids + ([0] * padding_length)\n",
        "    \n",
        "    # Actualizar máscaras, enmascarando (haciendo 0) la\n",
        "    # porción correspondiente al \"padding\"\n",
        "    attention_mask = attention_mask + ([0] * padding_length)\n",
        "    token_type_ids = token_type_ids + ([0] * padding_length)\n",
        "  elif padding_length < 0: # La secuencia debe ser truncada, saltarla\n",
        "    return #skip: en este caso el dato quedará preprocesado como \"None\"\n",
        "  \n",
        "  # Conformar diccionario de salida\n",
        "  seq_preprocessed = {\n",
        "      'input_ids': input_ids,\n",
        "      'token_type_ids': token_type_ids,\n",
        "      'attention_mask': attention_mask,\n",
        "      'start_token_idx': start_token_idx,\n",
        "      'end_token_idx': end_token_idx,\n",
        "      'context_token_to_char': tokenized_context.offsets\n",
        "  }\n",
        "\n",
        "  return seq_preprocessed"
      ],
      "execution_count": null,
      "outputs": []
    },
    {
      "cell_type": "code",
      "metadata": {
        "id": "7BL2pZ5-ig74",
        "colab": {
          "base_uri": "https://localhost:8080/"
        },
        "outputId": "a606f901-019d-46e3-a315-be7e252ea715"
      },
      "source": [
        "# Imprimir un ejemplo de pre-procesamiento\n",
        "dato = raw_train_dataset[0]\n",
        "seq_preproc = preprocesar(dato)\n",
        "\n",
        "if type(seq_preproc) != None:\n",
        "  print('input_ids:\\n---------------- ')\n",
        "  print(textwrap.fill(str(seq_preproc['input_ids']),width=125))\n",
        "  print('\\ntoken_type_ids:\\n---------------- ')\n",
        "  print(textwrap.fill(str(seq_preproc['token_type_ids']),width=125))\n",
        "  print('\\nattention_mask:\\n---------------- ')\n",
        "  print(textwrap.fill(str(seq_preproc['attention_mask']),width=125))\n",
        "  print('\\nstart_token_idx:\\n---------------- ')\n",
        "  print(seq_preproc['start_token_idx'])\n",
        "  print('\\nend_token_idx:\\n---------------- ')\n",
        "  print(seq_preproc['end_token_idx'])\n",
        "  print('\\ncontext_token_to_char:\\n----------------')\n",
        "  print(seq_preproc['context_token_to_char'])"
      ],
      "execution_count": null,
      "outputs": [
        {
          "output_type": "stream",
          "name": "stdout",
          "text": [
            "input_ids:\n",
            "---------------- \n",
            "[101, 6549, 2135, 1010, 1996, 2082, 2038, 1037, 3234, 2839, 1012, 10234, 1996, 2364, 2311, 1005, 1055, 2751, 8514, 2003,\n",
            "1037, 3585, 6231, 1997, 1996, 6261, 2984, 1012, 3202, 1999, 2392, 1997, 1996, 2364, 2311, 1998, 5307, 2009, 1010, 2003, 1037,\n",
            "6967, 6231, 1997, 4828, 2007, 2608, 2039, 14995, 6924, 2007, 1996, 5722, 1000, 2310, 3490, 2618, 4748, 2033, 18168, 5267,\n",
            "1000, 1012, 2279, 2000, 1996, 2364, 2311, 2003, 1996, 13546, 1997, 1996, 6730, 2540, 1012, 3202, 2369, 1996, 13546, 2003,\n",
            "1996, 24665, 23052, 1010, 1037, 14042, 2173, 1997, 7083, 1998, 9185, 1012, 2009, 2003, 1037, 15059, 1997, 1996, 24665, 23052,\n",
            "2012, 10223, 26371, 1010, 2605, 2073, 1996, 6261, 2984, 22353, 2135, 2596, 2000, 3002, 16595, 9648, 4674, 2061, 12083, 9711,\n",
            "2271, 1999, 8517, 1012, 2012, 1996, 2203, 1997, 1996, 2364, 3298, 1006, 1998, 1999, 1037, 3622, 2240, 2008, 8539, 2083, 1017,\n",
            "11342, 1998, 1996, 2751, 8514, 1007, 1010, 2003, 1037, 3722, 1010, 2715, 2962, 6231, 1997, 2984, 1012, 102, 2000, 3183, 2106,\n",
            "1996, 6261, 2984, 9382, 3711, 1999, 8517, 1999, 10223, 26371, 2605, 1029, 102, 0, 0, 0, 0, 0, 0, 0, 0, 0, 0, 0, 0, 0, 0, 0,\n",
            "0, 0, 0, 0, 0, 0, 0, 0, 0, 0, 0, 0, 0, 0, 0, 0, 0, 0, 0, 0, 0, 0, 0, 0, 0, 0, 0, 0, 0, 0, 0, 0, 0, 0, 0, 0, 0, 0, 0, 0, 0, 0,\n",
            "0, 0, 0, 0, 0, 0, 0, 0, 0, 0, 0, 0, 0, 0, 0, 0, 0, 0, 0, 0, 0, 0, 0, 0, 0, 0, 0, 0, 0, 0, 0, 0, 0, 0, 0, 0, 0, 0, 0, 0, 0, 0,\n",
            "0, 0, 0, 0, 0, 0, 0, 0, 0, 0, 0, 0, 0, 0, 0, 0, 0, 0, 0, 0, 0, 0, 0, 0, 0, 0, 0, 0, 0, 0, 0, 0, 0, 0, 0, 0, 0, 0, 0, 0, 0, 0,\n",
            "0, 0, 0, 0, 0, 0, 0, 0, 0, 0, 0, 0, 0, 0, 0, 0, 0, 0, 0, 0, 0, 0, 0, 0, 0, 0, 0, 0, 0, 0, 0, 0, 0, 0, 0, 0, 0, 0, 0, 0, 0, 0,\n",
            "0, 0, 0, 0, 0, 0, 0, 0, 0, 0, 0, 0, 0, 0, 0, 0, 0, 0, 0, 0, 0, 0, 0, 0, 0]\n",
            "\n",
            "token_type_ids:\n",
            "---------------- \n",
            "[0, 0, 0, 0, 0, 0, 0, 0, 0, 0, 0, 0, 0, 0, 0, 0, 0, 0, 0, 0, 0, 0, 0, 0, 0, 0, 0, 0, 0, 0, 0, 0, 0, 0, 0, 0, 0, 0, 0, 0, 0,\n",
            "0, 0, 0, 0, 0, 0, 0, 0, 0, 0, 0, 0, 0, 0, 0, 0, 0, 0, 0, 0, 0, 0, 0, 0, 0, 0, 0, 0, 0, 0, 0, 0, 0, 0, 0, 0, 0, 0, 0, 0, 0, 0,\n",
            "0, 0, 0, 0, 0, 0, 0, 0, 0, 0, 0, 0, 0, 0, 0, 0, 0, 0, 0, 0, 0, 0, 0, 0, 0, 0, 0, 0, 0, 0, 0, 0, 0, 0, 0, 0, 0, 0, 0, 0, 0, 0,\n",
            "0, 0, 0, 0, 0, 0, 0, 0, 0, 0, 0, 0, 0, 0, 0, 0, 0, 0, 0, 0, 0, 0, 0, 0, 0, 0, 0, 0, 0, 0, 0, 0, 0, 0, 0, 1, 1, 1, 1, 1, 1, 1,\n",
            "1, 1, 1, 1, 1, 1, 1, 1, 1, 0, 0, 0, 0, 0, 0, 0, 0, 0, 0, 0, 0, 0, 0, 0, 0, 0, 0, 0, 0, 0, 0, 0, 0, 0, 0, 0, 0, 0, 0, 0, 0, 0,\n",
            "0, 0, 0, 0, 0, 0, 0, 0, 0, 0, 0, 0, 0, 0, 0, 0, 0, 0, 0, 0, 0, 0, 0, 0, 0, 0, 0, 0, 0, 0, 0, 0, 0, 0, 0, 0, 0, 0, 0, 0, 0, 0,\n",
            "0, 0, 0, 0, 0, 0, 0, 0, 0, 0, 0, 0, 0, 0, 0, 0, 0, 0, 0, 0, 0, 0, 0, 0, 0, 0, 0, 0, 0, 0, 0, 0, 0, 0, 0, 0, 0, 0, 0, 0, 0, 0,\n",
            "0, 0, 0, 0, 0, 0, 0, 0, 0, 0, 0, 0, 0, 0, 0, 0, 0, 0, 0, 0, 0, 0, 0, 0, 0, 0, 0, 0, 0, 0, 0, 0, 0, 0, 0, 0, 0, 0, 0, 0, 0, 0,\n",
            "0, 0, 0, 0, 0, 0, 0, 0, 0, 0, 0, 0, 0, 0, 0, 0, 0, 0, 0, 0, 0, 0, 0, 0, 0, 0, 0, 0, 0, 0, 0, 0, 0, 0, 0, 0, 0, 0, 0, 0, 0, 0,\n",
            "0, 0, 0, 0, 0, 0, 0]\n",
            "\n",
            "attention_mask:\n",
            "---------------- \n",
            "[1, 1, 1, 1, 1, 1, 1, 1, 1, 1, 1, 1, 1, 1, 1, 1, 1, 1, 1, 1, 1, 1, 1, 1, 1, 1, 1, 1, 1, 1, 1, 1, 1, 1, 1, 1, 1, 1, 1, 1, 1,\n",
            "1, 1, 1, 1, 1, 1, 1, 1, 1, 1, 1, 1, 1, 1, 1, 1, 1, 1, 1, 1, 1, 1, 1, 1, 1, 1, 1, 1, 1, 1, 1, 1, 1, 1, 1, 1, 1, 1, 1, 1, 1, 1,\n",
            "1, 1, 1, 1, 1, 1, 1, 1, 1, 1, 1, 1, 1, 1, 1, 1, 1, 1, 1, 1, 1, 1, 1, 1, 1, 1, 1, 1, 1, 1, 1, 1, 1, 1, 1, 1, 1, 1, 1, 1, 1, 1,\n",
            "1, 1, 1, 1, 1, 1, 1, 1, 1, 1, 1, 1, 1, 1, 1, 1, 1, 1, 1, 1, 1, 1, 1, 1, 1, 1, 1, 1, 1, 1, 1, 1, 1, 1, 1, 1, 1, 1, 1, 1, 1, 1,\n",
            "1, 1, 1, 1, 1, 1, 1, 1, 1, 0, 0, 0, 0, 0, 0, 0, 0, 0, 0, 0, 0, 0, 0, 0, 0, 0, 0, 0, 0, 0, 0, 0, 0, 0, 0, 0, 0, 0, 0, 0, 0, 0,\n",
            "0, 0, 0, 0, 0, 0, 0, 0, 0, 0, 0, 0, 0, 0, 0, 0, 0, 0, 0, 0, 0, 0, 0, 0, 0, 0, 0, 0, 0, 0, 0, 0, 0, 0, 0, 0, 0, 0, 0, 0, 0, 0,\n",
            "0, 0, 0, 0, 0, 0, 0, 0, 0, 0, 0, 0, 0, 0, 0, 0, 0, 0, 0, 0, 0, 0, 0, 0, 0, 0, 0, 0, 0, 0, 0, 0, 0, 0, 0, 0, 0, 0, 0, 0, 0, 0,\n",
            "0, 0, 0, 0, 0, 0, 0, 0, 0, 0, 0, 0, 0, 0, 0, 0, 0, 0, 0, 0, 0, 0, 0, 0, 0, 0, 0, 0, 0, 0, 0, 0, 0, 0, 0, 0, 0, 0, 0, 0, 0, 0,\n",
            "0, 0, 0, 0, 0, 0, 0, 0, 0, 0, 0, 0, 0, 0, 0, 0, 0, 0, 0, 0, 0, 0, 0, 0, 0, 0, 0, 0, 0, 0, 0, 0, 0, 0, 0, 0, 0, 0, 0, 0, 0, 0,\n",
            "0, 0, 0, 0, 0, 0, 0]\n",
            "\n",
            "start_token_idx:\n",
            "---------------- \n",
            "114\n",
            "\n",
            "end_token_idx:\n",
            "---------------- \n",
            "121\n",
            "\n",
            "context_token_to_char:\n",
            "----------------\n",
            "[(0, 0), (0, 13), (13, 15), (15, 16), (17, 20), (21, 27), (28, 31), (32, 33), (34, 42), (43, 52), (52, 53), (54, 58), (59, 62), (63, 67), (68, 76), (76, 77), (77, 78), (79, 83), (84, 88), (89, 91), (92, 93), (94, 100), (101, 107), (108, 110), (111, 114), (115, 121), (122, 126), (126, 127), (128, 139), (140, 142), (143, 148), (149, 151), (152, 155), (156, 160), (161, 169), (170, 173), (174, 180), (181, 183), (183, 184), (185, 187), (188, 189), (190, 196), (197, 203), (204, 206), (207, 213), (214, 218), (219, 223), (224, 226), (226, 229), (229, 232), (233, 237), (238, 241), (242, 248), (249, 250), (250, 252), (252, 254), (254, 256), (257, 259), (260, 262), (263, 265), (265, 268), (268, 269), (269, 270), (271, 275), (276, 278), (279, 282), (283, 287), (288, 296), (297, 299), (300, 303), (304, 312), (313, 315), (316, 319), (320, 326), (327, 332), (332, 333), (334, 345), (346, 352), (353, 356), (357, 365), (366, 368), (369, 372), (373, 375), (375, 379), (379, 380), (381, 382), (383, 389), (390, 395), (396, 398), (399, 405), (406, 409), (410, 420), (420, 421), (422, 424), (425, 427), (428, 429), (430, 437), (438, 440), (441, 444), (445, 447), (447, 451), (452, 454), (455, 458), (458, 462), (462, 463), (464, 470), (471, 476), (477, 480), (481, 487), (488, 492), (493, 500), (500, 502), (503, 511), (512, 514), (515, 520), (521, 525), (525, 528), (528, 531), (532, 534), (534, 536), (536, 539), (539, 541), (542, 544), (545, 549), (549, 550), (551, 553), (554, 557), (558, 561), (562, 564), (565, 568), (569, 573), (574, 579), (580, 581), (581, 584), (585, 587), (588, 589), (590, 596), (597, 601), (602, 606), (607, 615), (616, 623), (624, 625), (626, 633), (634, 637), (638, 641), (642, 646), (647, 651), (651, 652), (652, 653), (654, 656), (657, 658), (659, 665), (665, 666), (667, 673), (674, 679), (680, 686), (687, 689), (690, 694), (694, 695), (0, 0)]\n"
          ]
        }
      ]
    },
    {
      "cell_type": "markdown",
      "metadata": {
        "id": "dgWL4tnh0kgS"
      },
      "source": [
        "Finalmente crearemos la función `crear_ejemplos_squad` para que pre-procese la totalidad de los datos de entrenamiento y prueba:"
      ]
    },
    {
      "cell_type": "code",
      "metadata": {
        "id": "zN2OLvX91MAC"
      },
      "source": [
        "def crear_ejemplos_squad(raw_dataset):\n",
        "  squad_examples = []\n",
        "  for item in raw_dataset:\n",
        "    squad_example = preprocesar(item)\n",
        "    squad_examples.append(squad_example)\n",
        "  \n",
        "  return squad_examples\n",
        "\n",
        "train_squad_examples = crear_ejemplos_squad(raw_train_dataset)\n",
        "test_squad_examples = crear_ejemplos_squad(raw_test_dataset)"
      ],
      "execution_count": null,
      "outputs": []
    },
    {
      "cell_type": "markdown",
      "metadata": {
        "id": "XcOwBObs2TJo"
      },
      "source": [
        "###4.4- Sets de entrenamiento y prueba\n",
        "\n",
        "Por cada ejemplo de entrenamiento y prueba, conformar los arreglos `x` (entrada al modelo) y `y` (salida del modelo):\n",
        "\n",
        "- `x`: conformado por `input_ids`, `token_type_ids` y `attention_mask`\n",
        "- `y`: conformado por `start_token_idx` y `end_token_idx`"
      ]
    },
    {
      "cell_type": "code",
      "metadata": {
        "id": "tW6G3K_F16qE"
      },
      "source": [
        "import numpy as np\n",
        "\n",
        "def crear_entradas_salidas(squad_examples):\n",
        "  dataset_dict = {\n",
        "      'input_ids': [], #entrada\n",
        "      'token_type_ids': [], #entrada\n",
        "      'attention_mask': [], #entrada\n",
        "      'start_token_idx': [], #salida\n",
        "      'end_token_idx': [], #salida\n",
        "  }\n",
        "  for item in squad_examples:\n",
        "    # Incluir únicamente datos sin errores\n",
        "    if item != None:\n",
        "      # Llenar el diccionario\n",
        "      for key in dataset_dict:\n",
        "        dataset_dict[key].append(item[key])\n",
        "    \n",
        "  # Convertir listas a arreglos de Numpy\n",
        "  for key in dataset_dict:\n",
        "    dataset_dict[key] = np.array(dataset_dict[key])\n",
        "      \n",
        "  # Conformar arreglos \"x\" y \"y\"\n",
        "  x = [\n",
        "       dataset_dict[\"input_ids\"],\n",
        "       dataset_dict[\"token_type_ids\"],\n",
        "       dataset_dict[\"attention_mask\"]\n",
        "       ]\n",
        "  y = [dataset_dict[\"start_token_idx\"], dataset_dict[\"end_token_idx\"]]\n",
        "  return x, y\n",
        "\n",
        "# Y crear los sets de entrenamiento y prueba\n",
        "x_train, y_train = crear_entradas_salidas(train_squad_examples)\n",
        "x_test, y_test = crear_entradas_salidas(test_squad_examples)"
      ],
      "execution_count": null,
      "outputs": []
    },
    {
      "cell_type": "code",
      "metadata": {
        "id": "l8lwgI2l-Ad_",
        "colab": {
          "base_uri": "https://localhost:8080/"
        },
        "outputId": "c0da0425-7fb4-401f-c2e5-5f07be959873"
      },
      "source": [
        "# Número de datos de entrenamiento/prueba iniciales (antes del pre-procesamiento)\n",
        "# y definitivos (que se usarán para entrenar/validar el modelo)\n",
        "\n",
        "print(f'Datos de entrenamiento iniciales/finales: {len(train_squad_examples)}/{x_train[0].shape[0]}')\n",
        "print(f'Datos de prueba iniciales/finales: {len(test_squad_examples)}/{x_test[0].shape[0]}')"
      ],
      "execution_count": null,
      "outputs": [
        {
          "output_type": "stream",
          "name": "stdout",
          "text": [
            "Datos de entrenamiento iniciales/finales: 87599/86136\n",
            "Datos de prueba iniciales/finales: 10570/10331\n"
          ]
        }
      ]
    },
    {
      "cell_type": "markdown",
      "metadata": {
        "id": "5Gs7BXySBB6C"
      },
      "source": [
        "Los sets de entrenamiento (`x_train`, `y_train`) y prueba (`x_test`,`y_test`) están organizados de esta forma:\n",
        "\n",
        "- `x_train[0][id]`, `x_test[0][id]`: `input_ids` para el dato `id`\n",
        "- `x_train[1][id]`, `x_test[1][id]`: `token_type_ids` para el dato `id`\n",
        "- `x_train[2][id]`, `x_test[2][id]`: `attention_mask` para el dato `id`\n",
        "- `y_train[0][id]`, `y_test[0][id]`: `start_token_id` para el dato `id`\n",
        "- `y_train[1][id]`, `y_test[1][id]`: `end_token_id` para el dato `id`"
      ]
    },
    {
      "cell_type": "markdown",
      "metadata": {
        "id": "bAvp7tEcByFs"
      },
      "source": [
        "##5- Creación del modelo"
      ]
    },
    {
      "cell_type": "markdown",
      "metadata": {
        "id": "1HHZhZUsB633"
      },
      "source": [
        "Usando la librería `transformers` de Hugging Face, implementaremos la arquitectura descrita en la sección 2 del Notebook:"
      ]
    },
    {
      "cell_type": "code",
      "metadata": {
        "id": "HdegCMcFCbA9",
        "colab": {
          "base_uri": "https://localhost:8080/"
        },
        "outputId": "7f5a8646-618b-4758-ded8-ad6fbc6c1de7"
      },
      "source": [
        "import tensorflow as tf\n",
        "from tensorflow import keras\n",
        "from tensorflow.keras import layers\n",
        "from transformers import TFBertModel, BertConfig\n",
        "\n",
        "# Semilla del generador aleatorio\n",
        "SEED = 12\n",
        "np.random.seed(SEED)\n",
        "tf.random.set_seed(SEED)\n",
        "\n",
        "# Parámetros por defecto para la configuración de BERT\n",
        "configuration = BertConfig()\n",
        "print(configuration)"
      ],
      "execution_count": null,
      "outputs": [
        {
          "output_type": "stream",
          "name": "stdout",
          "text": [
            "BertConfig {\n",
            "  \"attention_probs_dropout_prob\": 0.1,\n",
            "  \"classifier_dropout\": null,\n",
            "  \"hidden_act\": \"gelu\",\n",
            "  \"hidden_dropout_prob\": 0.1,\n",
            "  \"hidden_size\": 768,\n",
            "  \"initializer_range\": 0.02,\n",
            "  \"intermediate_size\": 3072,\n",
            "  \"layer_norm_eps\": 1e-12,\n",
            "  \"max_position_embeddings\": 512,\n",
            "  \"model_type\": \"bert\",\n",
            "  \"num_attention_heads\": 12,\n",
            "  \"num_hidden_layers\": 12,\n",
            "  \"pad_token_id\": 0,\n",
            "  \"position_embedding_type\": \"absolute\",\n",
            "  \"transformers_version\": \"4.26.1\",\n",
            "  \"type_vocab_size\": 2,\n",
            "  \"use_cache\": true,\n",
            "  \"vocab_size\": 30522\n",
            "}\n",
            "\n"
          ]
        }
      ]
    },
    {
      "cell_type": "code",
      "metadata": {
        "id": "UHm2ZXsM2Jmd"
      },
      "source": [
        "def crear_modelo():\n",
        "  # Modelo base pre-entrenado (BERT base)\n",
        "  bert_base = TFBertModel.from_pretrained(\"bert-base-uncased\")\n",
        "\n",
        "  # Entradas\n",
        "  input_ids = layers.Input(shape=(MAX_LEN,), dtype=tf.int32, name='input_ids')\n",
        "  token_type_ids = layers.Input(shape=(MAX_LEN,), dtype=tf.int32, name='token_type_ids')\n",
        "  attention_mask = layers.Input(shape=(MAX_LEN,), dtype=tf.int32, name='attention_mask')\n",
        "\n",
        "  # Conectar entradas a BERT\n",
        "  x = bert_base(\n",
        "      input_ids, token_type_ids=token_type_ids, attention_mask=attention_mask\n",
        "  )[0]\n",
        "\n",
        "  # Agregar capas adicionales\n",
        "\n",
        "  # FCN 1: FCN posición token de inicio\n",
        "  fcn_start = layers.Dense(1, name='fcn_start', use_bias=False)(x)\n",
        "  fcn_start = layers.Flatten(name='fcn_start_flatten')(fcn_start)\n",
        "\n",
        "  # FCN 2: FCN posición token de finalización\n",
        "  fcn_end = layers.Dense(1, name='fcn_end', use_bias=False)(x)\n",
        "  fcn_end = layers.Flatten(name='fcn_end_flatten')(fcn_end)\n",
        "  \n",
        "  # Capas softmax\n",
        "  start_softmax = layers.Activation(keras.activations.softmax, name='start_softmax')(fcn_start)\n",
        "  end_softmax = layers.Activation(keras.activations.softmax, name='end_softmax')(fcn_end)\n",
        "\n",
        "  # Crear el modelo interconectando todos los elementos\n",
        "  modelo = keras.Model(\n",
        "      inputs = [input_ids, token_type_ids, attention_mask], #3 entradas por cada ejemplo\n",
        "      outputs = [start_softmax, end_softmax] #2 salidas por cada ejemplo\n",
        "  )\n",
        "\n",
        "  # Opcional: congelar la capa que contiene el modelo BERT pre-entrenado (capa 3)\n",
        "  modelo.layers[3].trainable = True\n",
        "\n",
        "  # Compilar el modelo\n",
        "  loss = keras.losses.SparseCategoricalCrossentropy()\n",
        "  optimizer = keras.optimizers.Adam(learning_rate=5e-5)\n",
        "  #optimizer = keras.optimizers.Adam(learning_rate=0.001)\n",
        "  modelo.compile(optimizer=optimizer, loss=[loss, loss])\n",
        "  \n",
        "  #loss_function = SparseCategoricalCrossentropy(from_logits=True)\n",
        "  #optimizer = Adam(learning_rate=0.001)\n",
        "  #modelo.compile(loss=loss_function, optimizer=optimizer, metrics=['accuracy'])\n",
        "  \n",
        "  return modelo"
      ],
      "execution_count": null,
      "outputs": []
    },
    {
      "cell_type": "markdown",
      "metadata": {
        "id": "xMfdrQbJH7TN"
      },
      "source": [
        "Teniendo en cuenta el elevado número de parámetros que se deben aprender, es recomendable usar la TPU para el entrenamiento: *Runtime* -> *Change runtime type* -> *Hardware accelerator* -> *TPU*.\n",
        "\n",
        "Configuremos la TPU y creemos el modelo:"
      ]
    },
    {
      "cell_type": "code",
      "metadata": {
        "id": "t-flnYUOH8Gi"
      },
      "source": [
        "# Configurar la TPU\n",
        "tpu = tf.distribute.cluster_resolver.TPUClusterResolver.connect()\n",
        "strategy = tf.distribute.TPUStrategy(tpu)"
      ],
      "execution_count": null,
      "outputs": []
    },
    {
      "cell_type": "code",
      "source": [
        "# Y crear el modelo\n",
        "with strategy.scope():\n",
        "  modelo = crear_modelo()"
      ],
      "metadata": {
        "colab": {
          "base_uri": "https://localhost:8080/"
        },
        "id": "Mq2egmTALWpL",
        "outputId": "79cb9769-8d1b-4ab5-8c55-57095db4f159"
      },
      "execution_count": null,
      "outputs": [
        {
          "output_type": "stream",
          "name": "stderr",
          "text": [
            "Some layers from the model checkpoint at bert-base-uncased were not used when initializing TFBertModel: ['mlm___cls', 'nsp___cls']\n",
            "- This IS expected if you are initializing TFBertModel from the checkpoint of a model trained on another task or with another architecture (e.g. initializing a BertForSequenceClassification model from a BertForPreTraining model).\n",
            "- This IS NOT expected if you are initializing TFBertModel from the checkpoint of a model that you expect to be exactly identical (initializing a BertForSequenceClassification model from a BertForSequenceClassification model).\n",
            "All the layers of TFBertModel were initialized from the model checkpoint at bert-base-uncased.\n",
            "If your task is similar to the task the model of the checkpoint was trained on, you can already use TFBertModel for predictions without further training.\n"
          ]
        }
      ]
    },
    {
      "cell_type": "markdown",
      "metadata": {
        "id": "LTPJrxBEFmIn"
      },
      "source": [
        "Imprimamos en pantalla las características del modelo y verifiquemos que el modelo *BERT base* tiene aproximadamente 110 millones de parámetros:"
      ]
    },
    {
      "cell_type": "code",
      "metadata": {
        "id": "Hfb08A7O6DLD",
        "colab": {
          "base_uri": "https://localhost:8080/"
        },
        "outputId": "416b8775-1ab1-40dd-fc40-539482d81231"
      },
      "source": [
        "modelo.summary()"
      ],
      "execution_count": null,
      "outputs": [
        {
          "output_type": "stream",
          "name": "stdout",
          "text": [
            "Model: \"model\"\n",
            "__________________________________________________________________________________________________\n",
            " Layer (type)                   Output Shape         Param #     Connected to                     \n",
            "==================================================================================================\n",
            " input_ids (InputLayer)         [(None, 384)]        0           []                               \n",
            "                                                                                                  \n",
            " attention_mask (InputLayer)    [(None, 384)]        0           []                               \n",
            "                                                                                                  \n",
            " token_type_ids (InputLayer)    [(None, 384)]        0           []                               \n",
            "                                                                                                  \n",
            " tf_bert_model_1 (TFBertModel)  TFBaseModelOutputWi  109482240   ['input_ids[0][0]',              \n",
            "                                thPoolingAndCrossAt               'attention_mask[0][0]',         \n",
            "                                tentions(last_hidde               'token_type_ids[0][0]']         \n",
            "                                n_state=(None, 384,                                               \n",
            "                                 768),                                                            \n",
            "                                 pooler_output=(Non                                               \n",
            "                                e, 768),                                                          \n",
            "                                 past_key_values=No                                               \n",
            "                                ne, hidden_states=N                                               \n",
            "                                one, attentions=Non                                               \n",
            "                                e, cross_attentions                                               \n",
            "                                =None)                                                            \n",
            "                                                                                                  \n",
            " fcn_start (Dense)              (None, 384, 1)       768         ['tf_bert_model_1[0][0]']        \n",
            "                                                                                                  \n",
            " fcn_end (Dense)                (None, 384, 1)       768         ['tf_bert_model_1[0][0]']        \n",
            "                                                                                                  \n",
            " fcn_start_flatten (Flatten)    (None, 384)          0           ['fcn_start[0][0]']              \n",
            "                                                                                                  \n",
            " fcn_end_flatten (Flatten)      (None, 384)          0           ['fcn_end[0][0]']                \n",
            "                                                                                                  \n",
            " start_softmax (Activation)     (None, 384)          0           ['fcn_start_flatten[0][0]']      \n",
            "                                                                                                  \n",
            " end_softmax (Activation)       (None, 384)          0           ['fcn_end_flatten[0][0]']        \n",
            "                                                                                                  \n",
            "==================================================================================================\n",
            "Total params: 109,483,776\n",
            "Trainable params: 109,483,776\n",
            "Non-trainable params: 0\n",
            "__________________________________________________________________________________________________\n"
          ]
        }
      ]
    },
    {
      "cell_type": "markdown",
      "metadata": {
        "id": "olIy7MlDGsZv"
      },
      "source": [
        "Veamos la arquitectura que acabamos de construir:"
      ]
    },
    {
      "cell_type": "code",
      "metadata": {
        "id": "Xy7Xu2idGwkA",
        "colab": {
          "base_uri": "https://localhost:8080/",
          "height": 533
        },
        "outputId": "d4574485-346d-43fc-cb19-368580d05c6b"
      },
      "source": [
        "# Dibujar modelo\n",
        "from keras.utils.vis_utils import plot_model\n",
        "plot_model(modelo, to_file='modelo.png', show_shapes=True, show_layer_names=True)"
      ],
      "execution_count": null,
      "outputs": [
        {
          "output_type": "execute_result",
          "data": {
            "image/png": "[encoded data removed]",
            "text/plain": [
              "<IPython.core.display.Image object>"
            ]
          },
          "metadata": {},
          "execution_count": 21
        }
      ]
    },
    {
      "cell_type": "markdown",
      "metadata": {
        "id": "gqTuC_F7HS_W"
      },
      "source": [
        "##6- Entrenamiento del modelo"
      ]
    },
    {
      "cell_type": "code",
      "metadata": {
        "id": "ryd7cvHf6_i1",
        "colab": {
          "base_uri": "https://localhost:8080/"
        },
        "outputId": "5e0c666d-13db-4eea-e53c-3b975b8bacc1"
      },
      "source": [
        "# Importante: crear diccionarios de entrenamiento usando\n",
        "# la misma nomenclatura usada al momento de la creación del modelo\n",
        "X_train = {\n",
        "    'input_ids': x_train[0],\n",
        "    'token_type_ids': x_train[1],\n",
        "    'attention_mask': x_train[2]\n",
        "}\n",
        "Y_train = {\n",
        "    'start_softmax': y_train[0],\n",
        "    'end_softmax': y_train[1]\n",
        "}\n",
        "\n",
        "X_test = {\n",
        "    'input_ids': x_test[0],\n",
        "    'token_type_ids': x_test[1],\n",
        "    'attention_mask': x_test[2]\n",
        "}\n",
        "Y_test = {\n",
        "    'start_softmax': y_test[0],\n",
        "    'end_softmax': y_test[1]\n",
        "}\n",
        "\n",
        "# Entrenamiento\n",
        "modelo.fit(\n",
        "    X_train,\n",
        "    Y_train,\n",
        "    epochs=3,\n",
        "    verbose=2,\n",
        "    batch_size=32,\n",
        "    validation_data = (X_test,Y_test)\n",
        ")\n",
        "\n",
        "# El entrenamiento requiere aproximadamente 10 min/epoch"
      ],
      "execution_count": null,
      "outputs": [
        {
          "metadata": {
            "tags": null
          },
          "name": "stdout",
          "output_type": "stream",
          "text": [
            "Epoch 1/3\n"
          ]
        },
        {
          "metadata": {
            "tags": null
          },
          "name": "stderr",
          "output_type": "stream",
          "text": [
            "WARNING:tensorflow:Gradients do not exist for variables ['tf_bert_model_1/bert/pooler/dense/kernel:0', 'tf_bert_model_1/bert/pooler/dense/bias:0'] when minimizing the loss. If you're using `model.compile()`, did you forget to provide a `loss` argument?\n",
            "WARNING:tensorflow:Gradients do not exist for variables ['tf_bert_model_1/bert/pooler/dense/kernel:0', 'tf_bert_model_1/bert/pooler/dense/bias:0'] when minimizing the loss. If you're using `model.compile()`, did you forget to provide a `loss` argument?\n",
            "WARNING:tensorflow:Gradients do not exist for variables ['tf_bert_model_1/bert/pooler/dense/kernel:0', 'tf_bert_model_1/bert/pooler/dense/bias:0'] when minimizing the loss. If you're using `model.compile()`, did you forget to provide a `loss` argument?\n",
            "WARNING:tensorflow:Gradients do not exist for variables ['tf_bert_model_1/bert/pooler/dense/kernel:0', 'tf_bert_model_1/bert/pooler/dense/bias:0'] when minimizing the loss. If you're using `model.compile()`, did you forget to provide a `loss` argument?\n"
          ]
        },
        {
          "output_type": "stream",
          "name": "stdout",
          "text": [
            "2692/2692 - 521s - loss: 2.4637 - start_softmax_loss: 1.2903 - end_softmax_loss: 1.1734 - val_loss: 1.9624 - val_start_softmax_loss: 1.0198 - val_end_softmax_loss: 0.9427 - 521s/epoch - 194ms/step\n",
            "Epoch 2/3\n",
            "2692/2692 - 350s - loss: 1.5273 - start_softmax_loss: 0.8130 - end_softmax_loss: 0.7142 - val_loss: 2.0352 - val_start_softmax_loss: 1.0517 - val_end_softmax_loss: 0.9835 - 350s/epoch - 130ms/step\n",
            "Epoch 3/3\n",
            "2692/2692 - 347s - loss: 1.0829 - start_softmax_loss: 0.5815 - end_softmax_loss: 0.5015 - val_loss: 2.1702 - val_start_softmax_loss: 1.1316 - val_end_softmax_loss: 1.0386 - 347s/epoch - 129ms/step\n"
          ]
        },
        {
          "output_type": "execute_result",
          "data": {
            "text/plain": [
              "<keras.callbacks.History at 0x7ff854e80fa0>"
            ]
          },
          "metadata": {},
          "execution_count": 22
        }
      ]
    },
    {
      "cell_type": "code",
      "source": [
        "# Save the trained model to Google Drive\n",
        "modelo.save('/content/drive/MyDrive/12 Machine Learning/modelo/my_model_Q_A.h5')"
      ],
      "metadata": {
        "id": "FCuyuRYh6-8u"
      },
      "execution_count": null,
      "outputs": []
    },
    {
      "cell_type": "markdown",
      "metadata": {
        "id": "bDK3NXBKUU1v"
      },
      "source": [
        "##7- Predicción: preguntas y respuestas"
      ]
    },
    {
      "cell_type": "markdown",
      "metadata": {
        "id": "YtE_AdyDUbiz"
      },
      "source": [
        "Primero verificaremos el desempeño con los sets de entrenamiento y prueba, y después lo haremos con un nuevo dato nunca antes visto por el modelo."
      ]
    },
    {
      "cell_type": "markdown",
      "metadata": {
        "id": "hCm3tak6fS5S"
      },
      "source": [
        "###7.1- Predicción con ejemplos de entrenamiento y prueba"
      ]
    },
    {
      "cell_type": "code",
      "metadata": {
        "id": "SjGkt5Vt7Wbk"
      },
      "source": [
        "def preprocesar_dato(ctxt, ques):\n",
        "  # Eliminar posibles excesos de espacios en blanco\n",
        "  context = \" \".join(str(ctxt).split())\n",
        "  question = \" \".join(str(ques).split())\n",
        "\n",
        "  # Tokenizar \"context\" y \"question\"\n",
        "  tokenized_context = tokenizer.encode(context)\n",
        "  tokenized_question = tokenizer.encode(question)\n",
        "\n",
        "  # Crear frase de entrada al modelo:\n",
        "  #[[CLS] tk_ctxt1 tk_ctxt2 ... [SEP] tk_qst1 + tk_qst2 + ... [SEP]]\n",
        "  input_ids = tokenized_context.ids + tokenized_question.ids[1:]\n",
        "\n",
        "  # Máscara atencional\n",
        "  attention_mask = [1] * len(input_ids)\n",
        "\n",
        "  # Máscara: 0 para \"context\" y 1 para \"question\"\n",
        "  token_type_ids = [0] * len(tokenized_context.ids) + [1] * len(\n",
        "      tokenized_question.ids[1:])\n",
        "  \n",
        "  # Padding\n",
        "  padding_length = MAX_LEN - len(input_ids)\n",
        "  if padding_length > 0: # Agregar \"padding\"\n",
        "    input_ids = input_ids + ([0] * padding_length)\n",
        "    \n",
        "    # Actualizar máscara atencional, enmascarando (haciendo 0) la\n",
        "    # porción correspondiente al \"padding\"\n",
        "    attention_mask = attention_mask + ([0] * padding_length)\n",
        "    token_type_ids = token_type_ids + ([0] * padding_length)\n",
        "    \n",
        "  # Conformar diccionario de salida\n",
        "  x = {\n",
        "      'input_ids': np.array(input_ids).reshape(1,MAX_LEN),\n",
        "      'token_type_ids': np.array(token_type_ids).reshape(1,MAX_LEN),\n",
        "      'attention_mask': np.array(attention_mask).reshape(1,MAX_LEN)\n",
        "  }\n",
        "  \n",
        "\n",
        "  return x, tokenized_context"
      ],
      "execution_count": null,
      "outputs": []
    },
    {
      "cell_type": "code",
      "metadata": {
        "id": "AoUDrFg1MXHJ"
      },
      "source": [
        "def predecir_respuesta(ctxt, ques, print_flag=True):\n",
        "  #x, ques_tk_length, tk_context = preprocesar_dato(ctxt,ques)\n",
        "  \n",
        "  x, tk_context = preprocesar_dato(ctxt,ques)\n",
        "\n",
        "  start_token_probs, end_token_probs = modelo(x)\n",
        "  \n",
        "  start_token_id = np.argmax(start_token_probs)\n",
        "  end_token_id = np.argmax(end_token_probs)\n",
        "\n",
        "  # Pasar the token_ids a posiciones en la secuencia original\n",
        "  context_start_id = tk_context.token_to_chars(start_token_id)[0]\n",
        "  context_end_id = tk_context.token_to_chars(end_token_id)[1]\n",
        "\n",
        "  # Generar e imprimir la predicción\n",
        "  resp = context[context_start_id:context_end_id]\n",
        "  if print_flag:\n",
        "    print('\\nRespuesta (predicción):\\n--------------')\n",
        "    print(resp)\n",
        "\n",
        "  return resp"
      ],
      "execution_count": null,
      "outputs": []
    },
    {
      "cell_type": "code",
      "metadata": {
        "id": "G4uF7IC1D6bn",
        "colab": {
          "base_uri": "https://localhost:8080/"
        },
        "outputId": "073a2469-0c3b-4840-be96-f3d7d61256ef"
      },
      "source": [
        "# Predicciones con el set de entrenamiento (o prueba)\n",
        "id = 1000\n",
        "#dato = raw_train_dataset[id]\n",
        "dato = raw_test_dataset[id]\n",
        "question = dato['question']\n",
        "context = dato['context']\n",
        "answer = dato['answer_text']\n",
        "\n",
        "print('Contexto:\\n--------------')\n",
        "print(textwrap.fill(context,width=130))\n",
        "\n",
        "print('\\nPregunta:\\n--------------')\n",
        "print(question)\n",
        "\n",
        "print('\\nRespuesta (target):\\n--------------')\n",
        "print(answer)\n",
        "\n",
        "# Respuesta predicha\n",
        "respuesta = predecir_respuesta(context,question)"
      ],
      "execution_count": null,
      "outputs": [
        {
          "output_type": "stream",
          "name": "stdout",
          "text": [
            "Contexto:\n",
            "--------------\n",
            "Other green spaces in the city include the Botanic Garden and the University Library garden. They have extensive botanical\n",
            "collection of rare domestic and foreign plants, while a palm house in the New Orangery displays plants of subtropics from all over\n",
            "the world. Besides, within the city borders, there are also: Pole Mokotowskie (a big park in the northern Mokotów, where was the\n",
            "first horse racetrack and then the airport), Park Ujazdowski (close to the Sejm and John Lennon street), Park of Culture and Rest\n",
            "in Powsin, by the southern city border, Park Skaryszewski by the right Vistula bank, in Praga. The oldest park in Praga, the Praga\n",
            "Park, was established in 1865–1871 and designed by Jan Dobrowolski. In 1927 a zoological garden (Ogród Zoologiczny) was\n",
            "established on the park grounds, and in 1952 a bear run, still open today.\n",
            "\n",
            "Pregunta:\n",
            "--------------\n",
            "Where is a palm house with subtropic plants from all over the world on display?\n",
            "\n",
            "Respuesta (target):\n",
            "--------------\n",
            "New Orangery\n",
            "\n",
            "Respuesta (predicción):\n",
            "--------------\n",
            "the New Orangery\n"
          ]
        }
      ]
    },
    {
      "cell_type": "markdown",
      "metadata": {
        "id": "jV4kFr4flYl1"
      },
      "source": [
        "###7.2- Predicción con un dato nuevo\n",
        "\n",
        "Usaremos una porción de texto con la descripción de la película [Ciudadano Kane](https://en.wikipedia.org/wiki/Citizen_Kane), tomada de Wikipedia.\n",
        "\n",
        "Primero crearemos una función para mostrar la predicción al estilo de Google:"
      ]
    },
    {
      "cell_type": "code",
      "metadata": {
        "id": "aMds4VsTmhTU"
      },
      "source": [
        "from IPython.core.display import HTML\n",
        "\n",
        "def mostrar_prediccion(ctxt, ques, answer):\n",
        "  # Predecir la respuesta usando la función creada anteriormente\n",
        "  res = predecir_respuesta(ctxt, ques, print_flag=False)\n",
        "\n",
        "  # Imprimir pregunta y respuesta real en formato HTML\n",
        "  display(HTML(f'<h3>Pregunta: {ques}</h3'))\n",
        "  display(HTML(f'<h3>Respuesta (target): {answer}</h3'))\n",
        "\n",
        "  # Imprimir contexto y resaltar la respuesta predicha por el modelo\n",
        "  texto_resaltado = str(context.replace(res, f'<mark>{res}</mark>'))\n",
        "  display(HTML(f'''<blockquote> {texto_resaltado} </blockquote>'''))"
      ],
      "execution_count": null,
      "outputs": []
    },
    {
      "cell_type": "code",
      "metadata": {
        "id": "KrkxyRLzHrxE",
        "colab": {
          "base_uri": "https://localhost:8080/",
          "height": 153
        },
        "outputId": "4e9a119b-80c6-4812-8060-6e4f16c55d72"
      },
      "source": [
        "# Predicción sobre otro texto\n",
        "\n",
        "context = 'In a mansion called Xanadu, part of a vast palatial estate in Florida, the elderly Charles Foster Kane is on his deathbed. Holding a snow globe, he utters a word, Rosebud, and dies. A newsreel obituary tells the life story of Kane, an enormously wealthy newspaper publisher and industrial magnate. Kane''s death becomes sensational news around the world, and the newsreel''s producer tasks reporter Jerry Thompson with discovering the meaning of Rosebud.'\n",
        "\n",
        "#question = 'What is the name of the mansion?'\n",
        "#answer = 'Xanadu'\n",
        "#question = 'Which was the last word pronounced by Charles Foster Kane?'\n",
        "#answer = 'Rosebud'\n",
        "#question = 'Who is in charge of finding the meaning of Rosebud?'\n",
        "#answer = 'Jerry Thompson'\n",
        "question = 'Where is Xanadu located?'\n",
        "answer = 'in Florida'\n",
        "\n",
        "mostrar_prediccion(context,question,answer)"
      ],
      "execution_count": null,
      "outputs": [
        {
          "output_type": "display_data",
          "data": {
            "text/plain": [
              "<IPython.core.display.HTML object>"
            ],
            "text/html": [
              "<h3>Pregunta: Where is Xanadu located?</h3"
            ]
          },
          "metadata": {}
        },
        {
          "output_type": "display_data",
          "data": {
            "text/plain": [
              "<IPython.core.display.HTML object>"
            ],
            "text/html": [
              "<h3>Respuesta (target): in Florida</h3"
            ]
          },
          "metadata": {}
        },
        {
          "output_type": "display_data",
          "data": {
            "text/plain": [
              "<IPython.core.display.HTML object>"
            ],
            "text/html": [
              "<blockquote> In a mansion called Xanadu, part of a vast palatial estate in <mark>Florida</mark>, the elderly Charles Foster Kane is on his deathbed. Holding a snow globe, he utters a word, Rosebud, and dies. A newsreel obituary tells the life story of Kane, an enormously wealthy newspaper publisher and industrial magnate. Kanes death becomes sensational news around the world, and the newsreels producer tasks reporter Jerry Thompson with discovering the meaning of Rosebud. </blockquote>"
            ]
          },
          "metadata": {}
        }
      ]
    },
    {
      "cell_type": "code",
      "metadata": {
        "id": "uB0rAUytlLY4",
        "colab": {
          "base_uri": "https://localhost:8080/",
          "height": 153
        },
        "outputId": "1590dee7-eb00-4556-9f61-4032177761ea"
      },
      "source": [
        "context = 'Keras is an API designed for human beings, not machines. Keras follows best practices for reducing cognitive load: it offers consistent & simple APIs, it minimizes the number of user actions required for common use cases, and it provides clear & actionable error messages. It also has extensive documentation and developer guides.'\n",
        "question = \"What it Keras?\"\n",
        "answer = \"Keras is an API designed for human beings\"\n",
        "\n",
        "#question = \"Does Keras have documentation?\"\n",
        "#answer = \"It also have extensive documentation and developer guides\"\n",
        "\n",
        "mostrar_prediccion(context,question,answer)"
      ],
      "execution_count": null,
      "outputs": [
        {
          "output_type": "display_data",
          "data": {
            "text/plain": [
              "<IPython.core.display.HTML object>"
            ],
            "text/html": [
              "<h3>Pregunta: What it Keras?</h3"
            ]
          },
          "metadata": {}
        },
        {
          "output_type": "display_data",
          "data": {
            "text/plain": [
              "<IPython.core.display.HTML object>"
            ],
            "text/html": [
              "<h3>Respuesta (target): Keras is an API designed for human beings</h3"
            ]
          },
          "metadata": {}
        },
        {
          "output_type": "display_data",
          "data": {
            "text/plain": [
              "<IPython.core.display.HTML object>"
            ],
            "text/html": [
              "<blockquote> Keras is <mark>an API</mark> designed for human beings, not machines. Keras follows best practices for reducing cognitive load: it offers consistent & simple APIs, it minimizes the number of user actions required for common use cases, and it provides clear & actionable error messages. It also has extensive documentation and developer guides. </blockquote>"
            ]
          },
          "metadata": {}
        }
      ]
    },
    {
      "cell_type": "code",
      "source": [
        "context = 'Data science is an interdisciplinary academic field that uses statistics, scientific computing, scientific methods, processes, algorithms and systems to extract or extrapolate knowledge and insights from noisy, structured, and unstructured data. Data science also integrates domain knowledge from the underlying application domain e.g., natural sciences, information technology, and medicine. Data science is multifaceted and can be described as a science, a research paradigm, a research method, a discipline, a workflow, and a profession. Data science is a concept to unify statistics, data analysis, informatics, and their related methods in order to understand and analyse actual phenomena with data. It uses techniques and theories drawn from many fields within the context of mathematics, statistics, computer science, information science, and domain knowledge. However, data science is different from computer science and information science. Turing Award winner Jim Gray imagined data science as a fourth paradigm of science empirical, theoretical, computational, and now data-driven and asserted that everything about science is changing because of the impact of information technology and the data deluge. A data scientist is the professional who creates programming code and combines it with statistical knowledge to create insights from data.'\n",
        "\n",
        "#question = \"What is Data science?\"\n",
        "#answer = \"Data science is an interdisciplinary academic field\"\n",
        "\n",
        "#question = \"What integrates Data science?\"\n",
        "#answer = \"integrates domain knowledge\"\n",
        "\n",
        "question = \"Who is Jim Gray?\"\n",
        "answer = \"Turing Award winner\"\n",
        "\n",
        "\n",
        "mostrar_prediccion(context,question,answer)"
      ],
      "metadata": {
        "colab": {
          "base_uri": "https://localhost:8080/",
          "height": 205
        },
        "id": "c65KmV-P-3vj",
        "outputId": "11aaa80a-041b-4557-ffcf-321955137048"
      },
      "execution_count": null,
      "outputs": [
        {
          "output_type": "display_data",
          "data": {
            "text/plain": [
              "<IPython.core.display.HTML object>"
            ],
            "text/html": [
              "<h3>Pregunta: Who is Jim Gray?</h3"
            ]
          },
          "metadata": {}
        },
        {
          "output_type": "display_data",
          "data": {
            "text/plain": [
              "<IPython.core.display.HTML object>"
            ],
            "text/html": [
              "<h3>Respuesta (target): Turing Award winner</h3"
            ]
          },
          "metadata": {}
        },
        {
          "output_type": "display_data",
          "data": {
            "text/plain": [
              "<IPython.core.display.HTML object>"
            ],
            "text/html": [
              "<blockquote> Data science is an interdisciplinary academic field that uses statistics, scientific computing, scientific methods, processes, algorithms and systems to extract or extrapolate knowledge and insights from noisy, structured, and unstructured data. Data science also integrates domain knowledge from the underlying application domain e.g., natural sciences, information technology, and medicine. Data science is multifaceted and can be described as a science, a research paradigm, a research method, a discipline, a workflow, and a profession. Data science is a concept to unify statistics, data analysis, informatics, and their related methods in order to understand and analyse actual phenomena with data. It uses techniques and theories drawn from many fields within the context of mathematics, statistics, computer science, information science, and domain knowledge. However, data science is different from computer science and information science. <mark>Turing Award winner</mark> Jim Gray imagined data science as a fourth paradigm of science empirical, theoretical, computational, and now data-driven and asserted that everything about science is changing because of the impact of information technology and the data deluge. A data scientist is the professional who creates programming code and combines it with statistical knowledge to create insights from data. </blockquote>"
            ]
          },
          "metadata": {}
        }
      ]
    }
  ]
}