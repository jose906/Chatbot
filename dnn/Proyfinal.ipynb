{
  "nbformat": 4,
  "nbformat_minor": 0,
  "metadata": {
    "colab": {
      "provenance": []
    },
    "kernelspec": {
      "name": "python3",
      "display_name": "Python 3"
    },
    "language_info": {
      "name": "python"
    }
  },
  "cells": [
    {
      "cell_type": "markdown",
      "source": [
        "#Proyecto final Machine Learning\n",
        "##Bot de preguntas y respuestas\n",
        "\n",
        "### Integrantes\n",
        "* José Estensoro (josee906@gmail.com)\n",
        "* Roger Patón (oviroger@gmail.com)\n",
        "\n",
        "\n",
        "## Descripcion del Problema \n",
        "\n",
        "El objetivo es crear un chatbot que pueda responder preguntas en ingles sobre temas de cultura general. Para lograr esto, se utilizará el modelado de temas en los datos de preguntas frecuentes y respuestas proporcionados un. dataset conseguido en Kaggle.\n",
        "\n",
        "Usando técnicas de Machine learning, podemos identificar los temas principales en los datos y categorizar las preguntas y respuestas varios tipos de temas:\n",
        "\n",
        "\n",
        "Una vez que hemos categorizado las preguntas y respuestas en los temas, podemos entrenar un modelo, se tendra que elegir un modelo entre todos los aprendidos en la materia, para poder hacer el entrenamiento del bot para que bot pueda responder preguntas.\n",
        "\n",
        "\n",
        "\n"
      ],
      "metadata": {
        "id": "ehMpL-m9VFjL"
      }
    },
    {
      "cell_type": "markdown",
      "source": [
        "##Instalamos la librerias necesarias"
      ],
      "metadata": {
        "id": "a59L362gYqBv"
      }
    },
    {
      "cell_type": "code",
      "source": [
        "#Para realizar el proyecto va a ser necesario utilizar la libreria tflearn\n",
        "!pip install tflearn"
      ],
      "metadata": {
        "colab": {
          "base_uri": "https://localhost:8080/"
        },
        "id": "ynOsl797hor6",
        "outputId": "42098f49-3f6f-4e67-f158-ef5518812447"
      },
      "execution_count": 1,
      "outputs": [
        {
          "output_type": "stream",
          "name": "stdout",
          "text": [
            "Looking in indexes: https://pypi.org/simple, https://us-python.pkg.dev/colab-wheels/public/simple/\n",
            "Collecting tflearn\n",
            "  Downloading tflearn-0.5.0.tar.gz (107 kB)\n",
            "\u001b[2K     \u001b[90m━━━━━━━━━━━━━━━━━━━━━━━━━━━━━━━━━━━━━━━\u001b[0m \u001b[32m107.3/107.3 KB\u001b[0m \u001b[31m7.2 MB/s\u001b[0m eta \u001b[36m0:00:00\u001b[0m\n",
            "\u001b[?25h  Preparing metadata (setup.py) ... \u001b[?25l\u001b[?25hdone\n",
            "Requirement already satisfied: numpy in /usr/local/lib/python3.8/dist-packages (from tflearn) (1.22.4)\n",
            "Requirement already satisfied: six in /usr/local/lib/python3.8/dist-packages (from tflearn) (1.15.0)\n",
            "Requirement already satisfied: Pillow in /usr/local/lib/python3.8/dist-packages (from tflearn) (8.4.0)\n",
            "Building wheels for collected packages: tflearn\n",
            "  Building wheel for tflearn (setup.py) ... \u001b[?25l\u001b[?25hdone\n",
            "  Created wheel for tflearn: filename=tflearn-0.5.0-py3-none-any.whl size=127299 sha256=e5058236015d48490ca576c55f62c93f71a409f21d0965d88c465d489b043258\n",
            "  Stored in directory: /root/.cache/pip/wheels/65/9b/15/cb1e6b279c14ed897530d15cfd7da8e3df8a947e593f5cfe59\n",
            "Successfully built tflearn\n",
            "Installing collected packages: tflearn\n",
            "Successfully installed tflearn-0.5.0\n"
          ]
        }
      ]
    },
    {
      "cell_type": "code",
      "source": [
        "#Para poder realizar el analisis del modelo se utilizara tensorboard\n",
        "!pip install tensorboard"
      ],
      "metadata": {
        "colab": {
          "base_uri": "https://localhost:8080/"
        },
        "id": "erM5v-7apLJU",
        "outputId": "7da07098-9b46-48e9-aca2-9e33c0f3d549"
      },
      "execution_count": 11,
      "outputs": [
        {
          "output_type": "stream",
          "name": "stdout",
          "text": [
            "Looking in indexes: https://pypi.org/simple, https://us-python.pkg.dev/colab-wheels/public/simple/\n",
            "Requirement already satisfied: tensorboard in /usr/local/lib/python3.8/dist-packages (2.11.2)\n",
            "Requirement already satisfied: grpcio>=1.24.3 in /usr/local/lib/python3.8/dist-packages (from tensorboard) (1.51.3)\n",
            "Requirement already satisfied: google-auth-oauthlib<0.5,>=0.4.1 in /usr/local/lib/python3.8/dist-packages (from tensorboard) (0.4.6)\n",
            "Requirement already satisfied: tensorboard-plugin-wit>=1.6.0 in /usr/local/lib/python3.8/dist-packages (from tensorboard) (1.8.1)\n",
            "Requirement already satisfied: requests<3,>=2.21.0 in /usr/local/lib/python3.8/dist-packages (from tensorboard) (2.25.1)\n",
            "Requirement already satisfied: wheel>=0.26 in /usr/local/lib/python3.8/dist-packages (from tensorboard) (0.38.4)\n",
            "Requirement already satisfied: numpy>=1.12.0 in /usr/local/lib/python3.8/dist-packages (from tensorboard) (1.22.4)\n",
            "Requirement already satisfied: werkzeug>=1.0.1 in /usr/local/lib/python3.8/dist-packages (from tensorboard) (2.2.3)\n",
            "Requirement already satisfied: tensorboard-data-server<0.7.0,>=0.6.0 in /usr/local/lib/python3.8/dist-packages (from tensorboard) (0.6.1)\n",
            "Requirement already satisfied: setuptools>=41.0.0 in /usr/local/lib/python3.8/dist-packages (from tensorboard) (57.4.0)\n",
            "Requirement already satisfied: protobuf<4,>=3.9.2 in /usr/local/lib/python3.8/dist-packages (from tensorboard) (3.19.6)\n",
            "Requirement already satisfied: absl-py>=0.4 in /usr/local/lib/python3.8/dist-packages (from tensorboard) (1.4.0)\n",
            "Requirement already satisfied: markdown>=2.6.8 in /usr/local/lib/python3.8/dist-packages (from tensorboard) (3.4.1)\n",
            "Requirement already satisfied: google-auth<3,>=1.6.3 in /usr/local/lib/python3.8/dist-packages (from tensorboard) (2.16.1)\n",
            "Requirement already satisfied: pyasn1-modules>=0.2.1 in /usr/local/lib/python3.8/dist-packages (from google-auth<3,>=1.6.3->tensorboard) (0.2.8)\n",
            "Requirement already satisfied: six>=1.9.0 in /usr/local/lib/python3.8/dist-packages (from google-auth<3,>=1.6.3->tensorboard) (1.15.0)\n",
            "Requirement already satisfied: cachetools<6.0,>=2.0.0 in /usr/local/lib/python3.8/dist-packages (from google-auth<3,>=1.6.3->tensorboard) (5.3.0)\n",
            "Requirement already satisfied: rsa<5,>=3.1.4 in /usr/local/lib/python3.8/dist-packages (from google-auth<3,>=1.6.3->tensorboard) (4.9)\n",
            "Requirement already satisfied: requests-oauthlib>=0.7.0 in /usr/local/lib/python3.8/dist-packages (from google-auth-oauthlib<0.5,>=0.4.1->tensorboard) (1.3.1)\n",
            "Requirement already satisfied: importlib-metadata>=4.4 in /usr/local/lib/python3.8/dist-packages (from markdown>=2.6.8->tensorboard) (6.0.0)\n",
            "Requirement already satisfied: urllib3<1.27,>=1.21.1 in /usr/local/lib/python3.8/dist-packages (from requests<3,>=2.21.0->tensorboard) (1.26.14)\n",
            "Requirement already satisfied: certifi>=2017.4.17 in /usr/local/lib/python3.8/dist-packages (from requests<3,>=2.21.0->tensorboard) (2022.12.7)\n",
            "Requirement already satisfied: chardet<5,>=3.0.2 in /usr/local/lib/python3.8/dist-packages (from requests<3,>=2.21.0->tensorboard) (4.0.0)\n",
            "Requirement already satisfied: idna<3,>=2.5 in /usr/local/lib/python3.8/dist-packages (from requests<3,>=2.21.0->tensorboard) (2.10)\n",
            "Requirement already satisfied: MarkupSafe>=2.1.1 in /usr/local/lib/python3.8/dist-packages (from werkzeug>=1.0.1->tensorboard) (2.1.2)\n",
            "Requirement already satisfied: zipp>=0.5 in /usr/local/lib/python3.8/dist-packages (from importlib-metadata>=4.4->markdown>=2.6.8->tensorboard) (3.15.0)\n",
            "Requirement already satisfied: pyasn1<0.5.0,>=0.4.6 in /usr/local/lib/python3.8/dist-packages (from pyasn1-modules>=0.2.1->google-auth<3,>=1.6.3->tensorboard) (0.4.8)\n",
            "Requirement already satisfied: oauthlib>=3.0.0 in /usr/local/lib/python3.8/dist-packages (from requests-oauthlib>=0.7.0->google-auth-oauthlib<0.5,>=0.4.1->tensorboard) (3.2.2)\n"
          ]
        }
      ]
    },
    {
      "cell_type": "markdown",
      "source": [
        "#Importamos la librerias a usar\n"
      ],
      "metadata": {
        "id": "sNILMT4hIvXj"
      }
    },
    {
      "cell_type": "code",
      "execution_count": 2,
      "metadata": {
        "id": "x1yDrQgHgScx",
        "colab": {
          "base_uri": "https://localhost:8080/"
        },
        "outputId": "7b14d714-0c7e-42bd-b92e-5b65e6384864"
      },
      "outputs": [
        {
          "output_type": "stream",
          "name": "stderr",
          "text": [
            "WARNING:tensorflow:From /usr/local/lib/python3.8/dist-packages/tensorflow/python/compat/v2_compat.py:107: disable_resource_variables (from tensorflow.python.ops.variable_scope) is deprecated and will be removed in a future version.\n",
            "Instructions for updating:\n",
            "non-resource variables are not supported in the long term\n"
          ]
        }
      ],
      "source": [
        "#NLTK \n",
        "import nltk\n",
        "from nltk.stem.lancaster import LancasterStemmer\n",
        "from nltk.tokenize import word_tokenize\n",
        "#Numpy\n",
        "from numpy.core.defchararray import mod\n",
        "from numpy.lib.function_base import append\n",
        "import numpy\n",
        "#tflearn\n",
        "import tflearn\n",
        "import pickle,json, pandas as pd\n",
        "import matplotlib.pyplot as plt\n",
        "stemmer = LancasterStemmer()"
      ]
    },
    {
      "cell_type": "markdown",
      "source": [
        "#Cargado del dataset y preparacion de los datos \n",
        "El dataset es importando desde una carpeta del Google Drive"
      ],
      "metadata": {
        "id": "7r1fLTqWZloy"
      }
    },
    {
      "cell_type": "code",
      "source": [
        "df = pd.read_csv('/content/drive/MyDrive/MachineL/proyfinal/WikiQA.tsv',sep='\\t')\n",
        "df.head()"
      ],
      "metadata": {
        "colab": {
          "base_uri": "https://localhost:8080/",
          "height": 333
        },
        "id": "NwOkJdR7ijZ4",
        "outputId": "b7774409-4c7a-449c-a942-9909d8ef194a"
      },
      "execution_count": 3,
      "outputs": [
        {
          "output_type": "execute_result",
          "data": {
            "text/plain": [
              "  QuestionID                                         Question DocumentID  \\\n",
              "0         Q0  HOW AFRICAN AMERICANS WERE IMMIGRATED TO THE US         D0   \n",
              "1         Q0  HOW AFRICAN AMERICANS WERE IMMIGRATED TO THE US         D0   \n",
              "2         Q0  HOW AFRICAN AMERICANS WERE IMMIGRATED TO THE US         D0   \n",
              "3         Q0  HOW AFRICAN AMERICANS WERE IMMIGRATED TO THE US         D0   \n",
              "4         Q0  HOW AFRICAN AMERICANS WERE IMMIGRATED TO THE US         D0   \n",
              "\n",
              "                              DocumentTitle SentenceID  \\\n",
              "0  African immigration to the United States       D0-0   \n",
              "1  African immigration to the United States       D0-1   \n",
              "2  African immigration to the United States       D0-2   \n",
              "3  African immigration to the United States       D0-3   \n",
              "4  African immigration to the United States       D0-4   \n",
              "\n",
              "                                            Sentence  Label  \n",
              "0  African immigration to the United States refer...      0  \n",
              "1  The term African in the scope of this article ...      0  \n",
              "2  From the Immigration and Nationality Act of 19...      0  \n",
              "3  African immigrants in the United States come f...      0  \n",
              "4  They include people from different national, l...      0  "
            ],
            "text/html": [
              "\n",
              "  <div id=\"df-e38aa1bf-fdb6-4995-88ec-cb5123c4ab2b\">\n",
              "    <div class=\"colab-df-container\">\n",
              "      <div>\n",
              "<style scoped>\n",
              "    .dataframe tbody tr th:only-of-type {\n",
              "        vertical-align: middle;\n",
              "    }\n",
              "\n",
              "    .dataframe tbody tr th {\n",
              "        vertical-align: top;\n",
              "    }\n",
              "\n",
              "    .dataframe thead th {\n",
              "        text-align: right;\n",
              "    }\n",
              "</style>\n",
              "<table border=\"1\" class=\"dataframe\">\n",
              "  <thead>\n",
              "    <tr style=\"text-align: right;\">\n",
              "      <th></th>\n",
              "      <th>QuestionID</th>\n",
              "      <th>Question</th>\n",
              "      <th>DocumentID</th>\n",
              "      <th>DocumentTitle</th>\n",
              "      <th>SentenceID</th>\n",
              "      <th>Sentence</th>\n",
              "      <th>Label</th>\n",
              "    </tr>\n",
              "  </thead>\n",
              "  <tbody>\n",
              "    <tr>\n",
              "      <th>0</th>\n",
              "      <td>Q0</td>\n",
              "      <td>HOW AFRICAN AMERICANS WERE IMMIGRATED TO THE US</td>\n",
              "      <td>D0</td>\n",
              "      <td>African immigration to the United States</td>\n",
              "      <td>D0-0</td>\n",
              "      <td>African immigration to the United States refer...</td>\n",
              "      <td>0</td>\n",
              "    </tr>\n",
              "    <tr>\n",
              "      <th>1</th>\n",
              "      <td>Q0</td>\n",
              "      <td>HOW AFRICAN AMERICANS WERE IMMIGRATED TO THE US</td>\n",
              "      <td>D0</td>\n",
              "      <td>African immigration to the United States</td>\n",
              "      <td>D0-1</td>\n",
              "      <td>The term African in the scope of this article ...</td>\n",
              "      <td>0</td>\n",
              "    </tr>\n",
              "    <tr>\n",
              "      <th>2</th>\n",
              "      <td>Q0</td>\n",
              "      <td>HOW AFRICAN AMERICANS WERE IMMIGRATED TO THE US</td>\n",
              "      <td>D0</td>\n",
              "      <td>African immigration to the United States</td>\n",
              "      <td>D0-2</td>\n",
              "      <td>From the Immigration and Nationality Act of 19...</td>\n",
              "      <td>0</td>\n",
              "    </tr>\n",
              "    <tr>\n",
              "      <th>3</th>\n",
              "      <td>Q0</td>\n",
              "      <td>HOW AFRICAN AMERICANS WERE IMMIGRATED TO THE US</td>\n",
              "      <td>D0</td>\n",
              "      <td>African immigration to the United States</td>\n",
              "      <td>D0-3</td>\n",
              "      <td>African immigrants in the United States come f...</td>\n",
              "      <td>0</td>\n",
              "    </tr>\n",
              "    <tr>\n",
              "      <th>4</th>\n",
              "      <td>Q0</td>\n",
              "      <td>HOW AFRICAN AMERICANS WERE IMMIGRATED TO THE US</td>\n",
              "      <td>D0</td>\n",
              "      <td>African immigration to the United States</td>\n",
              "      <td>D0-4</td>\n",
              "      <td>They include people from different national, l...</td>\n",
              "      <td>0</td>\n",
              "    </tr>\n",
              "  </tbody>\n",
              "</table>\n",
              "</div>\n",
              "      <button class=\"colab-df-convert\" onclick=\"convertToInteractive('df-e38aa1bf-fdb6-4995-88ec-cb5123c4ab2b')\"\n",
              "              title=\"Convert this dataframe to an interactive table.\"\n",
              "              style=\"display:none;\">\n",
              "        \n",
              "  <svg xmlns=\"http://www.w3.org/2000/svg\" height=\"24px\"viewBox=\"0 0 24 24\"\n",
              "       width=\"24px\">\n",
              "    <path d=\"M0 0h24v24H0V0z\" fill=\"none\"/>\n",
              "    <path d=\"M18.56 5.44l.94 2.06.94-2.06 2.06-.94-2.06-.94-.94-2.06-.94 2.06-2.06.94zm-11 1L8.5 8.5l.94-2.06 2.06-.94-2.06-.94L8.5 2.5l-.94 2.06-2.06.94zm10 10l.94 2.06.94-2.06 2.06-.94-2.06-.94-.94-2.06-.94 2.06-2.06.94z\"/><path d=\"M17.41 7.96l-1.37-1.37c-.4-.4-.92-.59-1.43-.59-.52 0-1.04.2-1.43.59L10.3 9.45l-7.72 7.72c-.78.78-.78 2.05 0 2.83L4 21.41c.39.39.9.59 1.41.59.51 0 1.02-.2 1.41-.59l7.78-7.78 2.81-2.81c.8-.78.8-2.07 0-2.86zM5.41 20L4 18.59l7.72-7.72 1.47 1.35L5.41 20z\"/>\n",
              "  </svg>\n",
              "      </button>\n",
              "      \n",
              "  <style>\n",
              "    .colab-df-container {\n",
              "      display:flex;\n",
              "      flex-wrap:wrap;\n",
              "      gap: 12px;\n",
              "    }\n",
              "\n",
              "    .colab-df-convert {\n",
              "      background-color: #E8F0FE;\n",
              "      border: none;\n",
              "      border-radius: 50%;\n",
              "      cursor: pointer;\n",
              "      display: none;\n",
              "      fill: #1967D2;\n",
              "      height: 32px;\n",
              "      padding: 0 0 0 0;\n",
              "      width: 32px;\n",
              "    }\n",
              "\n",
              "    .colab-df-convert:hover {\n",
              "      background-color: #E2EBFA;\n",
              "      box-shadow: 0px 1px 2px rgba(60, 64, 67, 0.3), 0px 1px 3px 1px rgba(60, 64, 67, 0.15);\n",
              "      fill: #174EA6;\n",
              "    }\n",
              "\n",
              "    [theme=dark] .colab-df-convert {\n",
              "      background-color: #3B4455;\n",
              "      fill: #D2E3FC;\n",
              "    }\n",
              "\n",
              "    [theme=dark] .colab-df-convert:hover {\n",
              "      background-color: #434B5C;\n",
              "      box-shadow: 0px 1px 3px 1px rgba(0, 0, 0, 0.15);\n",
              "      filter: drop-shadow(0px 1px 2px rgba(0, 0, 0, 0.3));\n",
              "      fill: #FFFFFF;\n",
              "    }\n",
              "  </style>\n",
              "\n",
              "      <script>\n",
              "        const buttonEl =\n",
              "          document.querySelector('#df-e38aa1bf-fdb6-4995-88ec-cb5123c4ab2b button.colab-df-convert');\n",
              "        buttonEl.style.display =\n",
              "          google.colab.kernel.accessAllowed ? 'block' : 'none';\n",
              "\n",
              "        async function convertToInteractive(key) {\n",
              "          const element = document.querySelector('#df-e38aa1bf-fdb6-4995-88ec-cb5123c4ab2b');\n",
              "          const dataTable =\n",
              "            await google.colab.kernel.invokeFunction('convertToInteractive',\n",
              "                                                     [key], {});\n",
              "          if (!dataTable) return;\n",
              "\n",
              "          const docLinkHtml = 'Like what you see? Visit the ' +\n",
              "            '<a target=\"_blank\" href=https://colab.research.google.com/notebooks/data_table.ipynb>data table notebook</a>'\n",
              "            + ' to learn more about interactive tables.';\n",
              "          element.innerHTML = '';\n",
              "          dataTable['output_type'] = 'display_data';\n",
              "          await google.colab.output.renderOutput(dataTable, element);\n",
              "          const docLink = document.createElement('div');\n",
              "          docLink.innerHTML = docLinkHtml;\n",
              "          element.appendChild(docLink);\n",
              "        }\n",
              "      </script>\n",
              "    </div>\n",
              "  </div>\n",
              "  "
            ]
          },
          "metadata": {},
          "execution_count": 3
        }
      ]
    },
    {
      "cell_type": "markdown",
      "source": [
        "Se agrupan. todas las columnas que tengan la misma oracion en la columna \"Question\"."
      ],
      "metadata": {
        "id": "6Fsi_adcaHI4"
      }
    },
    {
      "cell_type": "code",
      "source": [
        "df = df.groupby([\"QuestionID\",\"Question\",\"DocumentID\",\"DocumentTitle\"])['Sentence'].apply(', '.join).reset_index()\n",
        "df"
      ],
      "metadata": {
        "colab": {
          "base_uri": "https://localhost:8080/",
          "height": 419
        },
        "id": "vbk4B9pQwxR_",
        "outputId": "9a623180-d9bf-4370-8f18-8b4210f847ba"
      },
      "execution_count": 4,
      "outputs": [
        {
          "output_type": "execute_result",
          "data": {
            "text/plain": [
              "     QuestionID                                           Question DocumentID  \\\n",
              "0            Q0    HOW AFRICAN AMERICANS WERE IMMIGRATED TO THE US         D0   \n",
              "1            Q1                      how are glacier caves formed?         D1   \n",
              "2           Q10                   how an outdoor wood boiler works        D10   \n",
              "3          Q100  what happens  to the light independent reactio...       D100   \n",
              "4         Q1000  where in the bible that palestine have no land...       D965   \n",
              "...         ...                                                ...        ...   \n",
              "3039       Q995  what does it mean for  a ship to be flagged by...       D960   \n",
              "3040       Q996                  what kind of earthquake was haiti       D961   \n",
              "3041       Q997                       what kind of horse was mr ed       D962   \n",
              "3042       Q998  What does Rapture meaning in a theological sense?       D963   \n",
              "3043       Q999                  who does chris humphries play for       D964   \n",
              "\n",
              "                                 DocumentTitle  \\\n",
              "0     African immigration to the United States   \n",
              "1                                 Glacier cave   \n",
              "2                    Outdoor wood-fired boiler   \n",
              "3                  Light-independent reactions   \n",
              "4                                  Philistines   \n",
              "...                                        ...   \n",
              "3039                             Maritime flag   \n",
              "3040                     2010 Haiti earthquake   \n",
              "3041                                 Mister Ed   \n",
              "3042                                   Rapture   \n",
              "3043                            Kris Humphries   \n",
              "\n",
              "                                               Sentence  \n",
              "0     African immigration to the United States refer...  \n",
              "1     A partly submerged glacier cave on Perito More...  \n",
              "2     The outdoor wood boiler is a variant of the cl...  \n",
              "3     The simplified internal structure of a chlorop...  \n",
              "4     The Philistine cities of Gaza, Ashdod, Ashkelo...  \n",
              "...                                                 ...  \n",
              "3039  A medieval ship flag captured by forces from L...  \n",
              "3040  The 2010 Haiti earthquake was a catastrophic m...  \n",
              "3041  Mister Ed is a fictional talking horse , origi...  \n",
              "3042  The Rapture is a term in Christian eschatology...  \n",
              "3043  Kris Nathan Humphries (born February 6, 1985) ...  \n",
              "\n",
              "[3044 rows x 5 columns]"
            ],
            "text/html": [
              "\n",
              "  <div id=\"df-c0d27db9-4ab5-4ad2-b47f-ee6f6be3b696\">\n",
              "    <div class=\"colab-df-container\">\n",
              "      <div>\n",
              "<style scoped>\n",
              "    .dataframe tbody tr th:only-of-type {\n",
              "        vertical-align: middle;\n",
              "    }\n",
              "\n",
              "    .dataframe tbody tr th {\n",
              "        vertical-align: top;\n",
              "    }\n",
              "\n",
              "    .dataframe thead th {\n",
              "        text-align: right;\n",
              "    }\n",
              "</style>\n",
              "<table border=\"1\" class=\"dataframe\">\n",
              "  <thead>\n",
              "    <tr style=\"text-align: right;\">\n",
              "      <th></th>\n",
              "      <th>QuestionID</th>\n",
              "      <th>Question</th>\n",
              "      <th>DocumentID</th>\n",
              "      <th>DocumentTitle</th>\n",
              "      <th>Sentence</th>\n",
              "    </tr>\n",
              "  </thead>\n",
              "  <tbody>\n",
              "    <tr>\n",
              "      <th>0</th>\n",
              "      <td>Q0</td>\n",
              "      <td>HOW AFRICAN AMERICANS WERE IMMIGRATED TO THE US</td>\n",
              "      <td>D0</td>\n",
              "      <td>African immigration to the United States</td>\n",
              "      <td>African immigration to the United States refer...</td>\n",
              "    </tr>\n",
              "    <tr>\n",
              "      <th>1</th>\n",
              "      <td>Q1</td>\n",
              "      <td>how are glacier caves formed?</td>\n",
              "      <td>D1</td>\n",
              "      <td>Glacier cave</td>\n",
              "      <td>A partly submerged glacier cave on Perito More...</td>\n",
              "    </tr>\n",
              "    <tr>\n",
              "      <th>2</th>\n",
              "      <td>Q10</td>\n",
              "      <td>how an outdoor wood boiler works</td>\n",
              "      <td>D10</td>\n",
              "      <td>Outdoor wood-fired boiler</td>\n",
              "      <td>The outdoor wood boiler is a variant of the cl...</td>\n",
              "    </tr>\n",
              "    <tr>\n",
              "      <th>3</th>\n",
              "      <td>Q100</td>\n",
              "      <td>what happens  to the light independent reactio...</td>\n",
              "      <td>D100</td>\n",
              "      <td>Light-independent reactions</td>\n",
              "      <td>The simplified internal structure of a chlorop...</td>\n",
              "    </tr>\n",
              "    <tr>\n",
              "      <th>4</th>\n",
              "      <td>Q1000</td>\n",
              "      <td>where in the bible that palestine have no land...</td>\n",
              "      <td>D965</td>\n",
              "      <td>Philistines</td>\n",
              "      <td>The Philistine cities of Gaza, Ashdod, Ashkelo...</td>\n",
              "    </tr>\n",
              "    <tr>\n",
              "      <th>...</th>\n",
              "      <td>...</td>\n",
              "      <td>...</td>\n",
              "      <td>...</td>\n",
              "      <td>...</td>\n",
              "      <td>...</td>\n",
              "    </tr>\n",
              "    <tr>\n",
              "      <th>3039</th>\n",
              "      <td>Q995</td>\n",
              "      <td>what does it mean for  a ship to be flagged by...</td>\n",
              "      <td>D960</td>\n",
              "      <td>Maritime flag</td>\n",
              "      <td>A medieval ship flag captured by forces from L...</td>\n",
              "    </tr>\n",
              "    <tr>\n",
              "      <th>3040</th>\n",
              "      <td>Q996</td>\n",
              "      <td>what kind of earthquake was haiti</td>\n",
              "      <td>D961</td>\n",
              "      <td>2010 Haiti earthquake</td>\n",
              "      <td>The 2010 Haiti earthquake was a catastrophic m...</td>\n",
              "    </tr>\n",
              "    <tr>\n",
              "      <th>3041</th>\n",
              "      <td>Q997</td>\n",
              "      <td>what kind of horse was mr ed</td>\n",
              "      <td>D962</td>\n",
              "      <td>Mister Ed</td>\n",
              "      <td>Mister Ed is a fictional talking horse , origi...</td>\n",
              "    </tr>\n",
              "    <tr>\n",
              "      <th>3042</th>\n",
              "      <td>Q998</td>\n",
              "      <td>What does Rapture meaning in a theological sense?</td>\n",
              "      <td>D963</td>\n",
              "      <td>Rapture</td>\n",
              "      <td>The Rapture is a term in Christian eschatology...</td>\n",
              "    </tr>\n",
              "    <tr>\n",
              "      <th>3043</th>\n",
              "      <td>Q999</td>\n",
              "      <td>who does chris humphries play for</td>\n",
              "      <td>D964</td>\n",
              "      <td>Kris Humphries</td>\n",
              "      <td>Kris Nathan Humphries (born February 6, 1985) ...</td>\n",
              "    </tr>\n",
              "  </tbody>\n",
              "</table>\n",
              "<p>3044 rows × 5 columns</p>\n",
              "</div>\n",
              "      <button class=\"colab-df-convert\" onclick=\"convertToInteractive('df-c0d27db9-4ab5-4ad2-b47f-ee6f6be3b696')\"\n",
              "              title=\"Convert this dataframe to an interactive table.\"\n",
              "              style=\"display:none;\">\n",
              "        \n",
              "  <svg xmlns=\"http://www.w3.org/2000/svg\" height=\"24px\"viewBox=\"0 0 24 24\"\n",
              "       width=\"24px\">\n",
              "    <path d=\"M0 0h24v24H0V0z\" fill=\"none\"/>\n",
              "    <path d=\"M18.56 5.44l.94 2.06.94-2.06 2.06-.94-2.06-.94-.94-2.06-.94 2.06-2.06.94zm-11 1L8.5 8.5l.94-2.06 2.06-.94-2.06-.94L8.5 2.5l-.94 2.06-2.06.94zm10 10l.94 2.06.94-2.06 2.06-.94-2.06-.94-.94-2.06-.94 2.06-2.06.94z\"/><path d=\"M17.41 7.96l-1.37-1.37c-.4-.4-.92-.59-1.43-.59-.52 0-1.04.2-1.43.59L10.3 9.45l-7.72 7.72c-.78.78-.78 2.05 0 2.83L4 21.41c.39.39.9.59 1.41.59.51 0 1.02-.2 1.41-.59l7.78-7.78 2.81-2.81c.8-.78.8-2.07 0-2.86zM5.41 20L4 18.59l7.72-7.72 1.47 1.35L5.41 20z\"/>\n",
              "  </svg>\n",
              "      </button>\n",
              "      \n",
              "  <style>\n",
              "    .colab-df-container {\n",
              "      display:flex;\n",
              "      flex-wrap:wrap;\n",
              "      gap: 12px;\n",
              "    }\n",
              "\n",
              "    .colab-df-convert {\n",
              "      background-color: #E8F0FE;\n",
              "      border: none;\n",
              "      border-radius: 50%;\n",
              "      cursor: pointer;\n",
              "      display: none;\n",
              "      fill: #1967D2;\n",
              "      height: 32px;\n",
              "      padding: 0 0 0 0;\n",
              "      width: 32px;\n",
              "    }\n",
              "\n",
              "    .colab-df-convert:hover {\n",
              "      background-color: #E2EBFA;\n",
              "      box-shadow: 0px 1px 2px rgba(60, 64, 67, 0.3), 0px 1px 3px 1px rgba(60, 64, 67, 0.15);\n",
              "      fill: #174EA6;\n",
              "    }\n",
              "\n",
              "    [theme=dark] .colab-df-convert {\n",
              "      background-color: #3B4455;\n",
              "      fill: #D2E3FC;\n",
              "    }\n",
              "\n",
              "    [theme=dark] .colab-df-convert:hover {\n",
              "      background-color: #434B5C;\n",
              "      box-shadow: 0px 1px 3px 1px rgba(0, 0, 0, 0.15);\n",
              "      filter: drop-shadow(0px 1px 2px rgba(0, 0, 0, 0.3));\n",
              "      fill: #FFFFFF;\n",
              "    }\n",
              "  </style>\n",
              "\n",
              "      <script>\n",
              "        const buttonEl =\n",
              "          document.querySelector('#df-c0d27db9-4ab5-4ad2-b47f-ee6f6be3b696 button.colab-df-convert');\n",
              "        buttonEl.style.display =\n",
              "          google.colab.kernel.accessAllowed ? 'block' : 'none';\n",
              "\n",
              "        async function convertToInteractive(key) {\n",
              "          const element = document.querySelector('#df-c0d27db9-4ab5-4ad2-b47f-ee6f6be3b696');\n",
              "          const dataTable =\n",
              "            await google.colab.kernel.invokeFunction('convertToInteractive',\n",
              "                                                     [key], {});\n",
              "          if (!dataTable) return;\n",
              "\n",
              "          const docLinkHtml = 'Like what you see? Visit the ' +\n",
              "            '<a target=\"_blank\" href=https://colab.research.google.com/notebooks/data_table.ipynb>data table notebook</a>'\n",
              "            + ' to learn more about interactive tables.';\n",
              "          element.innerHTML = '';\n",
              "          dataTable['output_type'] = 'display_data';\n",
              "          await google.colab.output.renderOutput(dataTable, element);\n",
              "          const docLink = document.createElement('div');\n",
              "          docLink.innerHTML = docLinkHtml;\n",
              "          element.appendChild(docLink);\n",
              "        }\n",
              "      </script>\n",
              "    </div>\n",
              "  </div>\n",
              "  "
            ]
          },
          "metadata": {},
          "execution_count": 4
        }
      ]
    },
    {
      "cell_type": "markdown",
      "source": [
        "se descraga la libreria punkt de NLTK"
      ],
      "metadata": {
        "id": "BL1phZ8iadGX"
      }
    },
    {
      "cell_type": "code",
      "source": [
        "nltk.download('punkt')"
      ],
      "metadata": {
        "colab": {
          "base_uri": "https://localhost:8080/"
        },
        "id": "0OiDX8QKlMCp",
        "outputId": "254d9c90-a5d6-43e9-ea17-13014e28877b"
      },
      "execution_count": 5,
      "outputs": [
        {
          "output_type": "stream",
          "name": "stderr",
          "text": [
            "[nltk_data] Downloading package punkt to /root/nltk_data...\n",
            "[nltk_data]   Unzipping tokenizers/punkt.zip.\n"
          ]
        },
        {
          "output_type": "execute_result",
          "data": {
            "text/plain": [
              "True"
            ]
          },
          "metadata": {},
          "execution_count": 5
        }
      ]
    },
    {
      "cell_type": "markdown",
      "source": [
        "Se realiza el preprosesamiento de los datos, se los tokeniza y se aplica Steamming "
      ],
      "metadata": {
        "id": "AyUuk8QwfbM2"
      }
    },
    {
      "cell_type": "code",
      "source": [
        "words = []\n",
        "labels = [] \n",
        "docs_x = []\n",
        "docs_y = []\n",
        "\n",
        "\n",
        "for index, row in df.iterrows():\n",
        "      wrds = nltk.word_tokenize(row[\"Question\"])\n",
        "      words.extend(wrds)\n",
        "      docs_x.append(wrds)\n",
        "      docs_y.append(row[\"DocumentTitle\"])\n",
        "      if row[\"DocumentTitle\"] not in labels:\n",
        "          labels.append(row[\"DocumentTitle\"])\n",
        "words = [stemmer.stem(w.lower()) for w in words if w not in \"?\"]\n",
        "words = sorted(list(set(words)))\n",
        "\n",
        "labels =  sorted(labels)\n",
        "\n",
        "training  = []\n",
        "output = []\n",
        "out_empty = [0 for _ in range(len(labels))]\n",
        "\n",
        "for x, doc in enumerate(docs_x):\n",
        "    bag = []\n",
        "    wrds = [stemmer.stem(w) for w in doc]\n",
        "    for w in words:\n",
        "        if w in wrds:\n",
        "            bag.append(1)\n",
        "        else:\n",
        "            bag.append(0)\n",
        "    \n",
        "    output_row =  out_empty[:]\n",
        "    output_row[labels.index(docs_y[x])] = 1\n",
        "    \n",
        "    training.append(bag)\n",
        "    output.append(output_row)"
      ],
      "metadata": {
        "id": "V7vLHLoOgeO0"
      },
      "execution_count": 6,
      "outputs": []
    },
    {
      "cell_type": "markdown",
      "source": [
        "#Se crea el modelo con una red neuronal profunda\n",
        "Se crea un modelo de 5 capaz con 100 nodos cada uno para\n"
      ],
      "metadata": {
        "id": "HdDJrl8nfxSQ"
      }
    },
    {
      "cell_type": "code",
      "source": [
        "net = tflearn.input_data(shape=[None, len(training[0])])\n",
        "\n",
        "net =  tflearn.fully_connected(net , 100)\n",
        "net =  tflearn.fully_connected(net , 100)\n",
        "net =  tflearn.fully_connected(net , 100)\n",
        "net =  tflearn.fully_connected(net , 100)\n",
        "net =  tflearn.fully_connected(net , 100)\n",
        "\n",
        "\n",
        "net =  tflearn.fully_connected(net , len(output[0]), activation=\"softmax\")\n",
        "net =  tflearn.regression(net)\n",
        "\n",
        "model = tflearn.DNN(net,tensorboard_verbose=3)\n",
        "\n"
      ],
      "metadata": {
        "id": "x68ubdkwlZop",
        "colab": {
          "base_uri": "https://localhost:8080/"
        },
        "outputId": "451d1634-7663-4510-a624-27d3d0f9fef1"
      },
      "execution_count": 7,
      "outputs": [
        {
          "output_type": "stream",
          "name": "stderr",
          "text": [
            "WARNING:tensorflow:From /usr/local/lib/python3.8/dist-packages/tflearn/initializations.py:164: calling TruncatedNormal.__init__ (from tensorflow.python.ops.init_ops) with dtype is deprecated and will be removed in a future version.\n",
            "Instructions for updating:\n",
            "Call initializer instance with the dtype argument instead of passing it to the constructor\n"
          ]
        }
      ]
    },
    {
      "cell_type": "markdown",
      "source": [
        "Entrenamos el modelo"
      ],
      "metadata": {
        "id": "WZoX3LkbhQtv"
      }
    },
    {
      "cell_type": "code",
      "source": [
        "model.fit(training, output, n_epoch=90, batch_size=32, show_metric=True)\n"
      ],
      "metadata": {
        "colab": {
          "base_uri": "https://localhost:8080/"
        },
        "id": "M6bplDI0lh7N",
        "outputId": "f2e0f1fb-3653-45db-86d2-b3f5657c74e2"
      },
      "execution_count": 13,
      "outputs": [
        {
          "output_type": "stream",
          "name": "stdout",
          "text": [
            "Training Step: 8639  | total loss: \u001b[1m\u001b[32m0.71970\u001b[0m\u001b[0m | time: 12.678s\n",
            "| Adam | epoch: 090 | loss: 0.71970 - acc: 0.8251 -- iter: 3040/3044\n",
            "Training Step: 8640  | total loss: \u001b[1m\u001b[32m0.71715\u001b[0m\u001b[0m | time: 12.791s\n",
            "| Adam | epoch: 090 | loss: 0.71715 - acc: 0.8301 -- iter: 3044/3044\n",
            "--\n"
          ]
        }
      ]
    },
    {
      "cell_type": "markdown",
      "source": [
        "si es que se entreno el modelo recientemente se lo guarda"
      ],
      "metadata": {
        "id": "0Qv85-uFgVCK"
      }
    },
    {
      "cell_type": "code",
      "source": [
        "model.save(\"/content/drive/MyDrive/MachineL/proyfinal/model/model.tflearn\") "
      ],
      "metadata": {
        "id": "vPs8prsGbis5"
      },
      "execution_count": 27,
      "outputs": []
    },
    {
      "cell_type": "markdown",
      "source": [
        "Si ya se tiene un modelo existente se lo sube al colab, se lo descomprime y se lo carga al modelo"
      ],
      "metadata": {
        "id": "y_lp1rmrgd9W"
      }
    },
    {
      "cell_type": "code",
      "source": [
        "model.load(\"/content/drive/MyDrive/MachineL/proyfinal/model/model.tflearn\")"
      ],
      "metadata": {
        "id": "cq3-I-FIgTkY"
      },
      "execution_count": 28,
      "outputs": []
    },
    {
      "cell_type": "markdown",
      "source": [
        "#Visualizamos el modelo\n"
      ],
      "metadata": {
        "id": "Ynr0RiZtq1Of"
      }
    },
    {
      "cell_type": "code",
      "source": [
        "%load_ext tensorboard\n",
        "%tensorboard --logdir /tmp/tflearn_logs"
      ],
      "metadata": {
        "id": "w9rSbvWApX_7"
      },
      "execution_count": null,
      "outputs": []
    },
    {
      "cell_type": "markdown",
      "source": [
        "Se utiliza el metodo bag of word para las respuestas"
      ],
      "metadata": {
        "id": "MDXAQ9NHhCnF"
      }
    },
    {
      "cell_type": "code",
      "source": [
        "def bag_of_words(s, words = words):\n",
        "    bag = [0 for _ in range(len(words))]\n",
        "    s_words = nltk.word_tokenize(s)\n",
        "    s_words = [stemmer.stem(word.lower()) for word in s_words]\n",
        "    \n",
        "    for se in s_words:\n",
        "        for i , w in enumerate(words):\n",
        "            if w == se:\n",
        "                bag[i]= 1\n",
        "    return numpy.array(bag)"
      ],
      "metadata": {
        "id": "inehbGNfXPjm"
      },
      "execution_count": 17,
      "outputs": []
    },
    {
      "cell_type": "markdown",
      "source": [
        "#Probamos el modelo"
      ],
      "metadata": {
        "id": "FZw03OOKq-0w"
      }
    },
    {
      "cell_type": "markdown",
      "source": [
        "se obtiene la respuesta segun la pregunta "
      ],
      "metadata": {
        "id": "wkvcdo_ShhVM"
      }
    },
    {
      "cell_type": "code",
      "source": [
        "#para que la respuesta salga completa\n",
        "pd.options.display.max_colwidth = None\n",
        "\n",
        "#Primera pregunta\n",
        "\n",
        "palabra = \"where does limestone form\"\n",
        "\n",
        "result = model.predict([bag_of_words(palabra, words)])[0]\n",
        "result_index = numpy.argmax(result)\n",
        "tag = labels[result_index]\n",
        "result = df[df['DocumentTitle'] == tag]\n",
        "print(result[\"Sentence\"])\n",
        "\n",
        "\n",
        "\n",
        "#Segunda pregunta\n",
        "\n",
        "palabra = \"AFRICAN AMERICANS WERE IMMIGRATED US \"\n",
        "\n",
        "result = model.predict([bag_of_words(palabra, words)])[0]\n",
        "result_index = numpy.argmax(result)\n",
        "tag = labels[result_index]\n",
        "result = df[df['DocumentTitle'] == tag]\n",
        "print(result[\"Sentence\"])\n",
        "#Tercera pregunta\n",
        "palabra = \"earthquake was haiti\"\n",
        "\n",
        "result = model.predict([bag_of_words(palabra, words)])[0]\n",
        "result_index = numpy.argmax(result)\n",
        "tag = labels[result_index]\n",
        "result = df[df['DocumentTitle'] == tag]\n",
        "print(result[\"Sentence\"])\n",
        "#Cuarta pregunata      \n",
        "palabra = \"What does Rapture meaning in a theological sense?\"\n",
        "\n",
        "result = model.predict([bag_of_words(palabra, words)])[0]\n",
        "result_index = numpy.argmax(result)\n",
        "tag = labels[result_index]\n",
        "result = df[df['DocumentTitle'] == tag]\n",
        "print(result[\"Sentence\"])\n"
      ],
      "metadata": {
        "colab": {
          "base_uri": "https://localhost:8080/"
        },
        "id": "MBlIiZrHXp9i",
        "outputId": "1d793b6f-db75-4974-cb6a-1ac282652f57"
      },
      "execution_count": 18,
      "outputs": [
        {
          "output_type": "stream",
          "name": "stdout",
          "text": [
            "60    Limestone is a sedimentary rock composed largely of the minerals calcite and aragonite , which are different crystal forms of calcium carbonate (CaCO3)., Many limestones are composed from skeletal fragments of marine organisms such as coral or foraminifera ., Limestone makes up about 10% of the total volume of all sedimentary rocks., The solubility of limestone in water and weak acid solutions leads to karst landscapes, in which water erodes the limestone over thousands to millions of years., Most cave systems are through limestone bedrock., Limestone has numerous uses: as a building material , as aggregate for the base of roads, as white pigment or filler in products such as toothpaste or paints, and as a chemical feedstock ., The first geologist to distinguish limestone from dolomite was Belsazar Hacquet in 1778.\n",
            "Name: Sentence, dtype: object\n",
            "1607    Where Do We Come From?, What Are We?, Where Are We Going?, One of Post-Impressionist Paul Gauguin 's most famous paintings., The meaning of life is a philosophical question concerning the significance of life or existence in general., It can also be expressed in different forms, such as \"Why are we here?\", \"What is life all about?\", and \"What is the purpose of existence?\", It has been the subject of much philosophical, scientific , and theological speculation throughout history., There have been a large number of proposed answers to these questions from many different cultural and ideological backgrounds., The meaning of life is in the philosophical and religious conceptions of existence , social ties , consciousness , and happiness , and borders on many other issues, such as symbolic meaning , ontology , value , purpose, ethics , good and evil , free will , the existence of one or multiple Gods , conceptions of God , the soul , and the afterlife ., Scientific contributions focus primarily on describing related empirical facts about the universe , exploring the context and parameters concerning the 'how' of life., Science also studies and can provide recommendations for the pursuit of well-being and a related conception of morality ., An alternative, humanistic approach poses the question \"What is the meaning of my life?\", The value of the question pertaining to the purpose of life may coincide with the achievement of ultimate reality , or a feeling of oneness , or even a feeling of sacredness .\n",
            "Name: Sentence, dtype: object\n",
            "2027    Sergeant Major Daniel Joseph \"Dan\" Daly (November 11, 1873 – April 27, 1937) was a United States Marine and one of only nineteen men (including seven Marines) to have received the Medal of Honor twice ., Of the Marines who are double recipients, only Daly and Major General Smedley Butler received their Medals of Honor for two, separate actions., Daly is said to have yelled, \"Come on, you sons of bitches!, Do you want to live forever?\" to the men in his company prior to charging the Germans during the Battle of Belleau Wood in World War I ; Daly claimed he said, \"For Christ's sake men—come on!, Do you want to live forever?\", Maj. Gen. Smedley Butler described Daly as, \"The fightin'est Marine I ever knew!\", Daly reportedly was offered an officer's commission twice to which he responded that he would rather be, \"...an outstanding sergeant than just another officer.\"\n",
            "Name: Sentence, dtype: object\n",
            "3042    The Rapture is a term in Christian eschatology which refers to the \"being caught up\" discussed in 1 Thessalonians 4:17, when the \"dead in Christ\" and \"we who are alive and remain\" will be \"caught up in the clouds\" to meet \"the Lord in the air\"., The term \"Rapture\" is used in at least two senses., In the pre-tribulation view, a group of people will be left behind on earth after another group literally leaves \"to meet the Lord in the air.\", This is now the most common use of the term, especially among fundamentalist Christians and in the United States., The other, older use of the term \"Rapture\" is simply as a synonym for the final resurrection generally, without a belief that a group of people is left behind on earth for an extended Tribulation period after the events of 1 Thessalonians 4:17., This distinction is important as some types of Christianity never refer to \"the Rapture\" in religious education, but might use the older and more general sense of the word \"rapture\" in referring to what happens during the final resurrection., There are many views among Christians regarding the timing of Christ's return (including whether it will occur in one event or two), and various views regarding the destination of the aerial gathering described in 1 Thessalonians 4., Denominations such as Roman Catholics , Orthodox Christians , Lutheran Christians, and Reformed Christians believe in a rapture only in the sense of a general final resurrection, when Christ returns a single time., They do not believe that a group of people is left behind on earth for an extended Tribulation period after the events of 1 Thessalonians 4:17., Pre-tribulation rapture theology was developed in the 1830s by John Nelson Darby and the Plymouth Brethren , and popularized in the United States in the early 20th century by the wide circulation of the Scofield Reference Bible .\n",
            "Name: Sentence, dtype: object\n"
          ]
        }
      ]
    }
  ]
}